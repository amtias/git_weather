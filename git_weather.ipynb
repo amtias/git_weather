{
 "cells": [
  {
   "cell_type": "code",
   "execution_count": 3,
   "metadata": {
    "collapsed": false
   },
   "outputs": [
    {
     "name": "stdout",
     "output_type": "stream",
     "text": [
      "Collecting keras\n",
      "  Downloading Keras-2.0.4.tar.gz (199kB)\n",
      "\u001b[K    100% |################################| 204kB 3.0MB/s \n",
      "\u001b[?25hCollecting theano (from keras)\n",
      "  Downloading Theano-0.9.0.tar.gz (3.1MB)\n",
      "\u001b[K    100% |################################| 3.1MB 342kB/s \n",
      "\u001b[?25hRequirement already satisfied: pyyaml in /usr/local/lib/python2.7/dist-packages (from keras)\n",
      "Requirement already satisfied: six in /usr/local/lib/python2.7/dist-packages (from keras)\n",
      "Requirement already satisfied: numpy>=1.9.1 in /usr/local/lib/python2.7/dist-packages (from theano->keras)\n",
      "Requirement already satisfied: scipy>=0.14 in /usr/local/lib/python2.7/dist-packages (from theano->keras)\n",
      "Building wheels for collected packages: keras, theano\n",
      "  Running setup.py bdist_wheel for keras ... \u001b[?25l-\b \bdone\n",
      "\u001b[?25h  Stored in directory: /root/.cache/pip/wheels/48/82/42/f06a8c03a8f95ada523a81ba723e89f059693e6ad868d09727\n",
      "  Running setup.py bdist_wheel for theano ... \u001b[?25l-\b \b\\\b \b|\b \bdone\n",
      "\u001b[?25h  Stored in directory: /root/.cache/pip/wheels/d5/5b/93/433299b86e3e9b25f0f600e4e4ebf18e38eb7534ea518eba13\n",
      "Successfully built keras theano\n",
      "Installing collected packages: theano, keras\n",
      "Successfully installed keras-2.0.4 theano-0.9.0\n"
     ]
    }
   ],
   "source": [
    "!pip install keras"
   ]
  },
  {
   "cell_type": "code",
   "execution_count": 386,
   "metadata": {
    "collapsed": false
   },
   "outputs": [],
   "source": [
    "import tensorflow as tf\n",
    "import datalab.bigquery as bq\n",
    "import pandas as pd\n",
    "import numpy as np\n",
    "import matplotlib.pyplot as plt\n",
    "import keras\n",
    "from keras import metrics\n",
    "from keras.models import Sequential\n",
    "from keras.layers import Dense, Dropout, Activation, Flatten\n",
    "from keras.utils import np_utils\n",
    "from sklearn import preprocessing"
   ]
  },
  {
   "cell_type": "markdown",
   "metadata": {},
   "source": [
    "As a mostly indoor activity, a prori I would expect the weather to have a much smaller effect on coding than it had on NYC taxi rides.\n",
    "\n",
    "But it is still an interesting question, and we might learn all sorts of things along the way. At worst, we'll see that the two are indeed independent.\n",
    "\n",
    "Let's start by loading our data"
   ]
  },
  {
   "cell_type": "markdown",
   "metadata": {},
   "source": [
    "## Github commit data"
   ]
  },
  {
   "cell_type": "markdown",
   "metadata": {},
   "source": [
    "Let's load a msall sample of the data and see what we have to work with:"
   ]
  },
  {
   "cell_type": "code",
   "execution_count": 31,
   "metadata": {
    "collapsed": true
   },
   "outputs": [],
   "source": [
    "%%sql --module commitquery\n",
    "select\n",
    "        commit,\n",
    "        tree,\n",
    "        author.name,\n",
    "        author.email,\n",
    "        author.time_sec,\n",
    "        author.tz_offset,\n",
    "        author.date,\n",
    "        committer.name,\n",
    "        committer.email,\n",
    "        committer.time_sec,\n",
    "        committer.tz_offset,\n",
    "        committer.date,\n",
    "        subject,\n",
    "        message\n",
    "from [bigquery-public-data:github_repos.sample_commits] limit 10"
   ]
  },
  {
   "cell_type": "code",
   "execution_count": 32,
   "metadata": {
    "collapsed": false
   },
   "outputs": [],
   "source": [
    "commits = bq.Query(commitquery).to_dataframe()"
   ]
  },
  {
   "cell_type": "code",
   "execution_count": 26,
   "metadata": {
    "collapsed": false
   },
   "outputs": [
    {
     "data": {
      "text/html": [
       "<div>\n",
       "<table border=\"1\" class=\"dataframe\">\n",
       "  <thead>\n",
       "    <tr style=\"text-align: right;\">\n",
       "      <th></th>\n",
       "      <th>commit</th>\n",
       "      <th>tree</th>\n",
       "      <th>author_name</th>\n",
       "      <th>author_email</th>\n",
       "      <th>author_time_sec</th>\n",
       "      <th>author_tz_offset</th>\n",
       "      <th>author_date</th>\n",
       "      <th>committer_name</th>\n",
       "      <th>committer_email</th>\n",
       "      <th>committer_time_sec</th>\n",
       "      <th>committer_tz_offset</th>\n",
       "      <th>committer_date</th>\n",
       "      <th>subject</th>\n",
       "      <th>message</th>\n",
       "    </tr>\n",
       "  </thead>\n",
       "  <tbody>\n",
       "    <tr>\n",
       "      <th>0</th>\n",
       "      <td>e01255d698ad00a6f4c6b3e0bf061e27ab238969</td>\n",
       "      <td>75906dcac642bf1e50d3cc9b90ab5b86a27d9307</td>\n",
       "      <td>Florian Tobias Schandinat</td>\n",
       "      <td>9843642cd7809d7c6d8c25ac9e4b0e2f1b5283bf@gmx.de</td>\n",
       "      <td>1303805433</td>\n",
       "      <td>0</td>\n",
       "      <td>2011-04-26 08:10:33</td>\n",
       "      <td>Florian Tobias Schandinat</td>\n",
       "      <td>9843642cd7809d7c6d8c25ac9e4b0e2f1b5283bf@gmx.de</td>\n",
       "      <td>1303805433</td>\n",
       "      <td>0</td>\n",
       "      <td>2011-04-26 08:10:33</td>\n",
       "      <td>viafb: remove unused CEA mode</td>\n",
       "      <td>viafb: remove unused CEA mode\\n\\nThis trivial ...</td>\n",
       "    </tr>\n",
       "    <tr>\n",
       "      <th>1</th>\n",
       "      <td>3f086fe93f734ba76f2e130777687f81e0cbb318</td>\n",
       "      <td>e2ec91df0cae6cc69333bb425280c26ef0723506</td>\n",
       "      <td>Florian Tobias Schandinat</td>\n",
       "      <td>9843642cd7809d7c6d8c25ac9e4b0e2f1b5283bf@gmx.de</td>\n",
       "      <td>1300726867</td>\n",
       "      <td>0</td>\n",
       "      <td>2011-03-21 17:01:07</td>\n",
       "      <td>Florian Tobias Schandinat</td>\n",
       "      <td>9843642cd7809d7c6d8c25ac9e4b0e2f1b5283bf@gmx.de</td>\n",
       "      <td>1300726867</td>\n",
       "      <td>0</td>\n",
       "      <td>2011-03-21 17:01:07</td>\n",
       "      <td>viafb: initialize margins correct</td>\n",
       "      <td>viafb: initialize margins correct\\n\\nThis patc...</td>\n",
       "    </tr>\n",
       "    <tr>\n",
       "      <th>2</th>\n",
       "      <td>2946294f9aa734efc5873ea2f34131d0a8c0f89a</td>\n",
       "      <td>7c1ddd28ec675caf9338e88b5433bd47deda3d8e</td>\n",
       "      <td>Florian Tobias Schandinat</td>\n",
       "      <td>9843642cd7809d7c6d8c25ac9e4b0e2f1b5283bf@gmx.de</td>\n",
       "      <td>1303602765</td>\n",
       "      <td>0</td>\n",
       "      <td>2011-04-23 23:52:45</td>\n",
       "      <td>Florian Tobias Schandinat</td>\n",
       "      <td>9843642cd7809d7c6d8c25ac9e4b0e2f1b5283bf@gmx.de</td>\n",
       "      <td>1303602765</td>\n",
       "      <td>0</td>\n",
       "      <td>2011-04-23 23:52:45</td>\n",
       "      <td>viafb: add X server compatibility mode</td>\n",
       "      <td>viafb: add X server compatibility mode\\n\\nThis...</td>\n",
       "    </tr>\n",
       "    <tr>\n",
       "      <th>3</th>\n",
       "      <td>363d58f5071df66cbe57c8a68e8bc84efe91f16e</td>\n",
       "      <td>91779cc8a7b306530a3e567814581ad037b97976</td>\n",
       "      <td>Anatolij Gustschin</td>\n",
       "      <td>f79f5d5f0b8928b7f49f0262a90d53ad98a87c22@denx.de</td>\n",
       "      <td>1314892421</td>\n",
       "      <td>120</td>\n",
       "      <td>2011-09-01 15:53:41</td>\n",
       "      <td>Florian Tobias Schandinat</td>\n",
       "      <td>9843642cd7809d7c6d8c25ac9e4b0e2f1b5283bf@gmx.de</td>\n",
       "      <td>1314986258</td>\n",
       "      <td>0</td>\n",
       "      <td>2011-09-02 17:57:38</td>\n",
       "      <td>video: mb862xx-i2c: fix for reliable decoder r...</td>\n",
       "      <td>video: mb862xx-i2c: fix for reliable decoder r...</td>\n",
       "    </tr>\n",
       "    <tr>\n",
       "      <th>4</th>\n",
       "      <td>92a9c19a89af2ca219fbb040a0059f414a4b7223</td>\n",
       "      <td>d9b8819d370ae287f8a4451cce6de17b8c62c25b</td>\n",
       "      <td>Kay Sievers</td>\n",
       "      <td>a591390dde1303c55d531fd687bfa5ffd43e435e@vrfy.org</td>\n",
       "      <td>1327780666</td>\n",
       "      <td>0</td>\n",
       "      <td>2012-01-28 19:57:46</td>\n",
       "      <td>Florian Tobias Schandinat</td>\n",
       "      <td>9843642cd7809d7c6d8c25ac9e4b0e2f1b5283bf@gmx.de</td>\n",
       "      <td>1327780666</td>\n",
       "      <td>0</td>\n",
       "      <td>2012-01-28 19:57:46</td>\n",
       "      <td>udlfb: remove sysfs framebuffer device with US...</td>\n",
       "      <td>udlfb: remove sysfs framebuffer device with US...</td>\n",
       "    </tr>\n",
       "    <tr>\n",
       "      <th>5</th>\n",
       "      <td>42eb317f7d089f878a06aa358d1f168eac3e5afd</td>\n",
       "      <td>d6f6de712d85af9a2c432ab8bd5721d9f5b72de9</td>\n",
       "      <td>Emil Goode</td>\n",
       "      <td>8f82f727ceef69ddbc9c99a3e77927715fed00fe@gmail...</td>\n",
       "      <td>1340663852</td>\n",
       "      <td>120</td>\n",
       "      <td>2012-06-25 22:37:32</td>\n",
       "      <td>Florian Tobias Schandinat</td>\n",
       "      <td>9843642cd7809d7c6d8c25ac9e4b0e2f1b5283bf@gmx.de</td>\n",
       "      <td>1341756197</td>\n",
       "      <td>0</td>\n",
       "      <td>2012-07-08 14:03:17</td>\n",
       "      <td>grvga: Fix error handling issues</td>\n",
       "      <td>grvga: Fix error handling issues\\n\\nThis patch...</td>\n",
       "    </tr>\n",
       "    <tr>\n",
       "      <th>6</th>\n",
       "      <td>f832906a56bcf9c597589e9a7898c1dd2f0513b9</td>\n",
       "      <td>699c01b6a8a2866e8d2366b0f755230544568b57</td>\n",
       "      <td>Kuninori Morimoto</td>\n",
       "      <td>a3b51ccb87d18302c1692defcfbf83319d1737eb@renes...</td>\n",
       "      <td>1320813295</td>\n",
       "      <td>-480</td>\n",
       "      <td>2011-11-09 04:34:55</td>\n",
       "      <td>Florian Tobias Schandinat</td>\n",
       "      <td>9843642cd7809d7c6d8c25ac9e4b0e2f1b5283bf@gmx.de</td>\n",
       "      <td>1321919001</td>\n",
       "      <td>0</td>\n",
       "      <td>2011-11-21 23:43:21</td>\n",
       "      <td>fbdev: sh_mipi_dsi: add sync_pulses/sync_event...</td>\n",
       "      <td>fbdev: sh_mipi_dsi: add sync_pulses/sync_event...</td>\n",
       "    </tr>\n",
       "    <tr>\n",
       "      <th>7</th>\n",
       "      <td>901b97d7b7ca9512ebb5d358df4ba6f8031f32cd</td>\n",
       "      <td>4a53dc9559a62331b12af5760c3bcafc9bd58187</td>\n",
       "      <td>Ben Hutchings</td>\n",
       "      <td>73675debcd8a436be48ec22211dcf44fe0df0a64@decad...</td>\n",
       "      <td>1279582816</td>\n",
       "      <td>60</td>\n",
       "      <td>2010-07-19 23:40:16</td>\n",
       "      <td>Florian Tobias Schandinat</td>\n",
       "      <td>9843642cd7809d7c6d8c25ac9e4b0e2f1b5283bf@gmx.de</td>\n",
       "      <td>1281045506</td>\n",
       "      <td>0</td>\n",
       "      <td>2010-08-05 21:58:26</td>\n",
       "      <td>viafb: Depends on X86</td>\n",
       "      <td>viafb: Depends on X86\\n\\nVIA UniChrome and Chr...</td>\n",
       "    </tr>\n",
       "    <tr>\n",
       "      <th>8</th>\n",
       "      <td>91fba48d59666718e3d3e86964755b80d39cdbdd</td>\n",
       "      <td>51323b2d579ab675f0a4478e3171d2dfd0450f28</td>\n",
       "      <td>Laurent Pinchart</td>\n",
       "      <td>3ded2f39a78f0d7044839546f95841842b4d7c96@ideas...</td>\n",
       "      <td>1314788456</td>\n",
       "      <td>120</td>\n",
       "      <td>2011-08-31 11:00:56</td>\n",
       "      <td>Florian Tobias Schandinat</td>\n",
       "      <td>9843642cd7809d7c6d8c25ac9e4b0e2f1b5283bf@gmx.de</td>\n",
       "      <td>1315240634</td>\n",
       "      <td>0</td>\n",
       "      <td>2011-09-05 16:37:14</td>\n",
       "      <td>fbdev: sh_mobile_lcdc: Update fix.line_length ...</td>\n",
       "      <td>fbdev: sh_mobile_lcdc: Update fix.line_length ...</td>\n",
       "    </tr>\n",
       "    <tr>\n",
       "      <th>9</th>\n",
       "      <td>5d910426a6e80194a50e33351c91abcad266c809</td>\n",
       "      <td>68931da14bd5b3161ff749fa96b1ad54b9372b2d</td>\n",
       "      <td>Alexander Stein</td>\n",
       "      <td>dbef83f64948dc68aad31596bbf6991154a9d730@syste...</td>\n",
       "      <td>1317801597</td>\n",
       "      <td>120</td>\n",
       "      <td>2011-10-05 07:59:57</td>\n",
       "      <td>Florian Tobias Schandinat</td>\n",
       "      <td>9843642cd7809d7c6d8c25ac9e4b0e2f1b5283bf@gmx.de</td>\n",
       "      <td>1321030245</td>\n",
       "      <td>0</td>\n",
       "      <td>2011-11-11 16:50:45</td>\n",
       "      <td>atmel_lcdfb: Adjust HFP calculation so it matc...</td>\n",
       "      <td>atmel_lcdfb: Adjust HFP calculation so it matc...</td>\n",
       "    </tr>\n",
       "  </tbody>\n",
       "</table>\n",
       "</div>"
      ],
      "text/plain": [
       "                                     commit  \\\n",
       "0  e01255d698ad00a6f4c6b3e0bf061e27ab238969   \n",
       "1  3f086fe93f734ba76f2e130777687f81e0cbb318   \n",
       "2  2946294f9aa734efc5873ea2f34131d0a8c0f89a   \n",
       "3  363d58f5071df66cbe57c8a68e8bc84efe91f16e   \n",
       "4  92a9c19a89af2ca219fbb040a0059f414a4b7223   \n",
       "5  42eb317f7d089f878a06aa358d1f168eac3e5afd   \n",
       "6  f832906a56bcf9c597589e9a7898c1dd2f0513b9   \n",
       "7  901b97d7b7ca9512ebb5d358df4ba6f8031f32cd   \n",
       "8  91fba48d59666718e3d3e86964755b80d39cdbdd   \n",
       "9  5d910426a6e80194a50e33351c91abcad266c809   \n",
       "\n",
       "                                       tree                author_name  \\\n",
       "0  75906dcac642bf1e50d3cc9b90ab5b86a27d9307  Florian Tobias Schandinat   \n",
       "1  e2ec91df0cae6cc69333bb425280c26ef0723506  Florian Tobias Schandinat   \n",
       "2  7c1ddd28ec675caf9338e88b5433bd47deda3d8e  Florian Tobias Schandinat   \n",
       "3  91779cc8a7b306530a3e567814581ad037b97976         Anatolij Gustschin   \n",
       "4  d9b8819d370ae287f8a4451cce6de17b8c62c25b                Kay Sievers   \n",
       "5  d6f6de712d85af9a2c432ab8bd5721d9f5b72de9                 Emil Goode   \n",
       "6  699c01b6a8a2866e8d2366b0f755230544568b57          Kuninori Morimoto   \n",
       "7  4a53dc9559a62331b12af5760c3bcafc9bd58187              Ben Hutchings   \n",
       "8  51323b2d579ab675f0a4478e3171d2dfd0450f28           Laurent Pinchart   \n",
       "9  68931da14bd5b3161ff749fa96b1ad54b9372b2d            Alexander Stein   \n",
       "\n",
       "                                        author_email  author_time_sec  \\\n",
       "0    9843642cd7809d7c6d8c25ac9e4b0e2f1b5283bf@gmx.de       1303805433   \n",
       "1    9843642cd7809d7c6d8c25ac9e4b0e2f1b5283bf@gmx.de       1300726867   \n",
       "2    9843642cd7809d7c6d8c25ac9e4b0e2f1b5283bf@gmx.de       1303602765   \n",
       "3   f79f5d5f0b8928b7f49f0262a90d53ad98a87c22@denx.de       1314892421   \n",
       "4  a591390dde1303c55d531fd687bfa5ffd43e435e@vrfy.org       1327780666   \n",
       "5  8f82f727ceef69ddbc9c99a3e77927715fed00fe@gmail...       1340663852   \n",
       "6  a3b51ccb87d18302c1692defcfbf83319d1737eb@renes...       1320813295   \n",
       "7  73675debcd8a436be48ec22211dcf44fe0df0a64@decad...       1279582816   \n",
       "8  3ded2f39a78f0d7044839546f95841842b4d7c96@ideas...       1314788456   \n",
       "9  dbef83f64948dc68aad31596bbf6991154a9d730@syste...       1317801597   \n",
       "\n",
       "   author_tz_offset         author_date             committer_name  \\\n",
       "0                 0 2011-04-26 08:10:33  Florian Tobias Schandinat   \n",
       "1                 0 2011-03-21 17:01:07  Florian Tobias Schandinat   \n",
       "2                 0 2011-04-23 23:52:45  Florian Tobias Schandinat   \n",
       "3               120 2011-09-01 15:53:41  Florian Tobias Schandinat   \n",
       "4                 0 2012-01-28 19:57:46  Florian Tobias Schandinat   \n",
       "5               120 2012-06-25 22:37:32  Florian Tobias Schandinat   \n",
       "6              -480 2011-11-09 04:34:55  Florian Tobias Schandinat   \n",
       "7                60 2010-07-19 23:40:16  Florian Tobias Schandinat   \n",
       "8               120 2011-08-31 11:00:56  Florian Tobias Schandinat   \n",
       "9               120 2011-10-05 07:59:57  Florian Tobias Schandinat   \n",
       "\n",
       "                                   committer_email  committer_time_sec  \\\n",
       "0  9843642cd7809d7c6d8c25ac9e4b0e2f1b5283bf@gmx.de          1303805433   \n",
       "1  9843642cd7809d7c6d8c25ac9e4b0e2f1b5283bf@gmx.de          1300726867   \n",
       "2  9843642cd7809d7c6d8c25ac9e4b0e2f1b5283bf@gmx.de          1303602765   \n",
       "3  9843642cd7809d7c6d8c25ac9e4b0e2f1b5283bf@gmx.de          1314986258   \n",
       "4  9843642cd7809d7c6d8c25ac9e4b0e2f1b5283bf@gmx.de          1327780666   \n",
       "5  9843642cd7809d7c6d8c25ac9e4b0e2f1b5283bf@gmx.de          1341756197   \n",
       "6  9843642cd7809d7c6d8c25ac9e4b0e2f1b5283bf@gmx.de          1321919001   \n",
       "7  9843642cd7809d7c6d8c25ac9e4b0e2f1b5283bf@gmx.de          1281045506   \n",
       "8  9843642cd7809d7c6d8c25ac9e4b0e2f1b5283bf@gmx.de          1315240634   \n",
       "9  9843642cd7809d7c6d8c25ac9e4b0e2f1b5283bf@gmx.de          1321030245   \n",
       "\n",
       "   committer_tz_offset      committer_date  \\\n",
       "0                    0 2011-04-26 08:10:33   \n",
       "1                    0 2011-03-21 17:01:07   \n",
       "2                    0 2011-04-23 23:52:45   \n",
       "3                    0 2011-09-02 17:57:38   \n",
       "4                    0 2012-01-28 19:57:46   \n",
       "5                    0 2012-07-08 14:03:17   \n",
       "6                    0 2011-11-21 23:43:21   \n",
       "7                    0 2010-08-05 21:58:26   \n",
       "8                    0 2011-09-05 16:37:14   \n",
       "9                    0 2011-11-11 16:50:45   \n",
       "\n",
       "                                             subject  \\\n",
       "0                      viafb: remove unused CEA mode   \n",
       "1                  viafb: initialize margins correct   \n",
       "2             viafb: add X server compatibility mode   \n",
       "3  video: mb862xx-i2c: fix for reliable decoder r...   \n",
       "4  udlfb: remove sysfs framebuffer device with US...   \n",
       "5                   grvga: Fix error handling issues   \n",
       "6  fbdev: sh_mipi_dsi: add sync_pulses/sync_event...   \n",
       "7                              viafb: Depends on X86   \n",
       "8  fbdev: sh_mobile_lcdc: Update fix.line_length ...   \n",
       "9  atmel_lcdfb: Adjust HFP calculation so it matc...   \n",
       "\n",
       "                                             message  \n",
       "0  viafb: remove unused CEA mode\\n\\nThis trivial ...  \n",
       "1  viafb: initialize margins correct\\n\\nThis patc...  \n",
       "2  viafb: add X server compatibility mode\\n\\nThis...  \n",
       "3  video: mb862xx-i2c: fix for reliable decoder r...  \n",
       "4  udlfb: remove sysfs framebuffer device with US...  \n",
       "5  grvga: Fix error handling issues\\n\\nThis patch...  \n",
       "6  fbdev: sh_mipi_dsi: add sync_pulses/sync_event...  \n",
       "7  viafb: Depends on X86\\n\\nVIA UniChrome and Chr...  \n",
       "8  fbdev: sh_mobile_lcdc: Update fix.line_length ...  \n",
       "9  atmel_lcdfb: Adjust HFP calculation so it matc...  "
      ]
     },
     "execution_count": 26,
     "metadata": {},
     "output_type": "execute_result"
    }
   ],
   "source": [
    "commits"
   ]
  },
  {
   "cell_type": "markdown",
   "metadata": {},
   "source": [
    "There are quite a few fields here, but unfortunately, the commits table doesn't have a 'location' field, and we can see that the time zone offset field just contains zeroes for the committers (we only see a small sample here, but it's true for the full table as well)."
   ]
  },
  {
   "cell_type": "markdown",
   "metadata": {},
   "source": [
    "This is quite problematic, since our weather data is based upon the readings of specific stations around the world. \n"
   ]
  },
  {
   "cell_type": "markdown",
   "metadata": {},
   "source": [
    "A possible solution might have been to focus on just stations located around an area we would expect to have large github participation, such as Silicon Valley, or areas that have both high participation and significant weather variance, such as the northeastern US, and hope to see some influence related to weather conditions.\n",
    "\n",
    "However, all the commits from elsewhere around the world would make this effect, which might be quite small in the first place, really hard to see."
   ]
  },
  {
   "cell_type": "markdown",
   "metadata": {},
   "source": [
    "Instead, I figured that the committer email domain might be used as an indicator of their location. I found a number of email domains that were both identifiable with a known organization and \n",
    "whose owners also had a large number of commits.\n",
    "\n",
    "Most such organizations are not focused in a single location, but there is one type that is:  **_colleges!_**\n",
    "\n",
    "There's also the added bonus that their email domains are quite easy to identify, due to their \".edu\" ending."
   ]
  },
  {
   "cell_type": "code",
   "execution_count": 624,
   "metadata": {
    "collapsed": true
   },
   "outputs": [],
   "source": [
    "%%sql --module edu_mails\n",
    "SELECT  email_domain\n",
    "       ,count(distinct commit) as count_commits \n",
    "FROM \n",
    "      (\n",
    "        select commit, split(committer.email, '@') as email_domain from [bigquery-public-data:github_repos.commits] \n",
    "      ) as q\n",
    "where email_domain contains '.edu'\n",
    "group by email_domain\n",
    "order by count_commits desc"
   ]
  },
  {
   "cell_type": "code",
   "execution_count": 625,
   "metadata": {
    "collapsed": false
   },
   "outputs": [
    {
     "data": {
      "text/html": [
       "<div>\n",
       "<table border=\"1\" class=\"dataframe\">\n",
       "  <thead>\n",
       "    <tr style=\"text-align: right;\">\n",
       "      <th></th>\n",
       "      <th>email_domain</th>\n",
       "      <th>count_commits</th>\n",
       "    </tr>\n",
       "  </thead>\n",
       "  <tbody>\n",
       "    <tr>\n",
       "      <th>0</th>\n",
       "      <td>mit.edu</td>\n",
       "      <td>226489</td>\n",
       "    </tr>\n",
       "    <tr>\n",
       "      <th>1</th>\n",
       "      <td>stanford.edu</td>\n",
       "      <td>116940</td>\n",
       "    </tr>\n",
       "    <tr>\n",
       "      <th>2</th>\n",
       "      <td>umich.edu</td>\n",
       "      <td>113712</td>\n",
       "    </tr>\n",
       "    <tr>\n",
       "      <th>3</th>\n",
       "      <td>berkeley.edu</td>\n",
       "      <td>109605</td>\n",
       "    </tr>\n",
       "    <tr>\n",
       "      <th>4</th>\n",
       "      <td>alum.mit.edu</td>\n",
       "      <td>72259</td>\n",
       "    </tr>\n",
       "    <tr>\n",
       "      <th>5</th>\n",
       "      <td>uw.edu</td>\n",
       "      <td>64912</td>\n",
       "    </tr>\n",
       "    <tr>\n",
       "      <th>6</th>\n",
       "      <td>colorado.edu</td>\n",
       "      <td>61220</td>\n",
       "    </tr>\n",
       "    <tr>\n",
       "      <th>7</th>\n",
       "      <td>cornell.edu</td>\n",
       "      <td>56125</td>\n",
       "    </tr>\n",
       "    <tr>\n",
       "      <th>8</th>\n",
       "      <td>cs.stanford.edu</td>\n",
       "      <td>50861</td>\n",
       "    </tr>\n",
       "    <tr>\n",
       "      <th>9</th>\n",
       "      <td>wisc.edu</td>\n",
       "      <td>49431</td>\n",
       "    </tr>\n",
       "  </tbody>\n",
       "</table>\n",
       "</div>"
      ],
      "text/plain": [
       "      email_domain  count_commits\n",
       "0          mit.edu         226489\n",
       "1     stanford.edu         116940\n",
       "2        umich.edu         113712\n",
       "3     berkeley.edu         109605\n",
       "4     alum.mit.edu          72259\n",
       "5           uw.edu          64912\n",
       "6     colorado.edu          61220\n",
       "7      cornell.edu          56125\n",
       "8  cs.stanford.edu          50861\n",
       "9         wisc.edu          49431"
      ]
     },
     "execution_count": 625,
     "metadata": {},
     "output_type": "execute_result"
    }
   ],
   "source": [
    "bq.Query(edu_mails).to_dataframe().head(10)"
   ]
  },
  {
   "cell_type": "markdown",
   "metadata": {},
   "source": [
    "We see that there are a number of schools with a decent number of commits, though MIT leads the pack by quite a large margin.\n",
    "\n",
    "We'll focus just on MIT for this analysis. This is both for simplicity and due to the fact that apparently similar weather conditions might be experienced differently at different locations, adding another level of complexity to the problem."
   ]
  },
  {
   "cell_type": "code",
   "execution_count": 606,
   "metadata": {
    "collapsed": true
   },
   "outputs": [],
   "source": [
    "%%sql --module mitquery\n",
    "select  date\n",
    "        ,min(year_day) as year_day\n",
    "        ,min(week_day) as week_day\n",
    "        ,count(distinct commit) as num_commits\n",
    "        ,count(distinct committer_email) as num_committers\n",
    "from \n",
    "        (       \n",
    "            select  commit\n",
    "                   ,committer_email\n",
    "                   ,date(SEC_TO_TIMESTAMP(committer_time_sec))            as date\n",
    "                   ,dayofyear(SEC_TO_TIMESTAMP(committer_time_sec)) as year_day\n",
    "                   ,dayofweek(SEC_TO_TIMESTAMP(committer_time_sec)) as week_day \n",
    "            from mit_us.full_mit --This is an auxiliary table I created with just MIT data, so I did not have to query the huge commits table too many times\n",
    "         )\n",
    "group by date   \n",
    "order by num_commits desc"
   ]
  },
  {
   "cell_type": "markdown",
   "metadata": {},
   "source": [
    "Similar to what was done for NYC taxi example, I decided it would be beneficial to also have the weekday and day of year, as these might have a strong effect on the number of commits."
   ]
  },
  {
   "cell_type": "code",
   "execution_count": 502,
   "metadata": {
    "collapsed": false
   },
   "outputs": [],
   "source": [
    "mit = bq.Query(mitquery).to_dataframe()"
   ]
  },
  {
   "cell_type": "markdown",
   "metadata": {},
   "source": [
    "Let's take a look at what we got:"
   ]
  },
  {
   "cell_type": "code",
   "execution_count": 503,
   "metadata": {
    "collapsed": false
   },
   "outputs": [
    {
     "name": "stdout",
     "output_type": "stream",
     "text": [
      "<class 'pandas.core.frame.DataFrame'>\n",
      "RangeIndex: 6474 entries, 0 to 6473\n",
      "Data columns (total 5 columns):\n",
      "date              6474 non-null object\n",
      "year_day          6474 non-null int64\n",
      "week_day          6474 non-null int64\n",
      "num_commits       6474 non-null int64\n",
      "num_committers    6474 non-null int64\n",
      "dtypes: int64(4), object(1)\n",
      "memory usage: 253.0+ KB\n"
     ]
    }
   ],
   "source": [
    "mit.info()"
   ]
  },
  {
   "cell_type": "code",
   "execution_count": 504,
   "metadata": {
    "collapsed": false
   },
   "outputs": [],
   "source": [
    "#Casting the date column as a datetime object, instead of a string\n",
    "mit.date = pd.to_datetime(mit.date)"
   ]
  },
  {
   "cell_type": "code",
   "execution_count": 505,
   "metadata": {
    "collapsed": false
   },
   "outputs": [
    {
     "data": {
      "text/html": [
       "<div>\n",
       "<table border=\"1\" class=\"dataframe\">\n",
       "  <thead>\n",
       "    <tr style=\"text-align: right;\">\n",
       "      <th></th>\n",
       "      <th>date</th>\n",
       "      <th>year_day</th>\n",
       "      <th>week_day</th>\n",
       "      <th>num_commits</th>\n",
       "      <th>num_committers</th>\n",
       "    </tr>\n",
       "  </thead>\n",
       "  <tbody>\n",
       "    <tr>\n",
       "      <th>0</th>\n",
       "      <td>2008-09-12</td>\n",
       "      <td>256</td>\n",
       "      <td>6</td>\n",
       "      <td>747</td>\n",
       "      <td>6</td>\n",
       "    </tr>\n",
       "    <tr>\n",
       "      <th>1</th>\n",
       "      <td>2015-01-21</td>\n",
       "      <td>21</td>\n",
       "      <td>4</td>\n",
       "      <td>519</td>\n",
       "      <td>62</td>\n",
       "    </tr>\n",
       "    <tr>\n",
       "      <th>2</th>\n",
       "      <td>2014-01-14</td>\n",
       "      <td>14</td>\n",
       "      <td>3</td>\n",
       "      <td>458</td>\n",
       "      <td>37</td>\n",
       "    </tr>\n",
       "    <tr>\n",
       "      <th>3</th>\n",
       "      <td>2015-05-12</td>\n",
       "      <td>132</td>\n",
       "      <td>3</td>\n",
       "      <td>404</td>\n",
       "      <td>53</td>\n",
       "    </tr>\n",
       "    <tr>\n",
       "      <th>4</th>\n",
       "      <td>2015-04-14</td>\n",
       "      <td>104</td>\n",
       "      <td>3</td>\n",
       "      <td>388</td>\n",
       "      <td>62</td>\n",
       "    </tr>\n",
       "    <tr>\n",
       "      <th>5</th>\n",
       "      <td>2013-11-14</td>\n",
       "      <td>318</td>\n",
       "      <td>5</td>\n",
       "      <td>368</td>\n",
       "      <td>43</td>\n",
       "    </tr>\n",
       "    <tr>\n",
       "      <th>6</th>\n",
       "      <td>2013-10-06</td>\n",
       "      <td>279</td>\n",
       "      <td>1</td>\n",
       "      <td>352</td>\n",
       "      <td>32</td>\n",
       "    </tr>\n",
       "    <tr>\n",
       "      <th>7</th>\n",
       "      <td>2015-04-15</td>\n",
       "      <td>105</td>\n",
       "      <td>4</td>\n",
       "      <td>339</td>\n",
       "      <td>58</td>\n",
       "    </tr>\n",
       "    <tr>\n",
       "      <th>8</th>\n",
       "      <td>2015-05-01</td>\n",
       "      <td>121</td>\n",
       "      <td>6</td>\n",
       "      <td>331</td>\n",
       "      <td>64</td>\n",
       "    </tr>\n",
       "    <tr>\n",
       "      <th>9</th>\n",
       "      <td>2015-04-29</td>\n",
       "      <td>119</td>\n",
       "      <td>4</td>\n",
       "      <td>330</td>\n",
       "      <td>70</td>\n",
       "    </tr>\n",
       "    <tr>\n",
       "      <th>10</th>\n",
       "      <td>2015-01-28</td>\n",
       "      <td>28</td>\n",
       "      <td>4</td>\n",
       "      <td>330</td>\n",
       "      <td>59</td>\n",
       "    </tr>\n",
       "    <tr>\n",
       "      <th>11</th>\n",
       "      <td>2014-05-11</td>\n",
       "      <td>131</td>\n",
       "      <td>1</td>\n",
       "      <td>327</td>\n",
       "      <td>31</td>\n",
       "    </tr>\n",
       "    <tr>\n",
       "      <th>12</th>\n",
       "      <td>2012-03-15</td>\n",
       "      <td>75</td>\n",
       "      <td>5</td>\n",
       "      <td>324</td>\n",
       "      <td>29</td>\n",
       "    </tr>\n",
       "    <tr>\n",
       "      <th>13</th>\n",
       "      <td>2014-07-25</td>\n",
       "      <td>206</td>\n",
       "      <td>6</td>\n",
       "      <td>321</td>\n",
       "      <td>49</td>\n",
       "    </tr>\n",
       "    <tr>\n",
       "      <th>14</th>\n",
       "      <td>2016-01-25</td>\n",
       "      <td>25</td>\n",
       "      <td>2</td>\n",
       "      <td>320</td>\n",
       "      <td>64</td>\n",
       "    </tr>\n",
       "    <tr>\n",
       "      <th>15</th>\n",
       "      <td>2016-01-26</td>\n",
       "      <td>26</td>\n",
       "      <td>3</td>\n",
       "      <td>309</td>\n",
       "      <td>60</td>\n",
       "    </tr>\n",
       "    <tr>\n",
       "      <th>16</th>\n",
       "      <td>2015-01-22</td>\n",
       "      <td>22</td>\n",
       "      <td>5</td>\n",
       "      <td>308</td>\n",
       "      <td>68</td>\n",
       "    </tr>\n",
       "    <tr>\n",
       "      <th>17</th>\n",
       "      <td>2015-12-09</td>\n",
       "      <td>343</td>\n",
       "      <td>4</td>\n",
       "      <td>306</td>\n",
       "      <td>62</td>\n",
       "    </tr>\n",
       "    <tr>\n",
       "      <th>18</th>\n",
       "      <td>2015-01-23</td>\n",
       "      <td>23</td>\n",
       "      <td>6</td>\n",
       "      <td>304</td>\n",
       "      <td>54</td>\n",
       "    </tr>\n",
       "    <tr>\n",
       "      <th>19</th>\n",
       "      <td>2012-10-11</td>\n",
       "      <td>285</td>\n",
       "      <td>5</td>\n",
       "      <td>302</td>\n",
       "      <td>29</td>\n",
       "    </tr>\n",
       "  </tbody>\n",
       "</table>\n",
       "</div>"
      ],
      "text/plain": [
       "         date  year_day  week_day  num_commits  num_committers\n",
       "0  2008-09-12       256         6          747               6\n",
       "1  2015-01-21        21         4          519              62\n",
       "2  2014-01-14        14         3          458              37\n",
       "3  2015-05-12       132         3          404              53\n",
       "4  2015-04-14       104         3          388              62\n",
       "5  2013-11-14       318         5          368              43\n",
       "6  2013-10-06       279         1          352              32\n",
       "7  2015-04-15       105         4          339              58\n",
       "8  2015-05-01       121         6          331              64\n",
       "9  2015-04-29       119         4          330              70\n",
       "10 2015-01-28        28         4          330              59\n",
       "11 2014-05-11       131         1          327              31\n",
       "12 2012-03-15        75         5          324              29\n",
       "13 2014-07-25       206         6          321              49\n",
       "14 2016-01-25        25         2          320              64\n",
       "15 2016-01-26        26         3          309              60\n",
       "16 2015-01-22        22         5          308              68\n",
       "17 2015-12-09       343         4          306              62\n",
       "18 2015-01-23        23         6          304              54\n",
       "19 2012-10-11       285         5          302              29"
      ]
     },
     "execution_count": 505,
     "metadata": {},
     "output_type": "execute_result"
    }
   ],
   "source": [
    "mit.sort_values('num_commits', ascending=False).head(20)"
   ]
  },
  {
   "cell_type": "markdown",
   "metadata": {},
   "source": [
    "Not surprisingly, we see that the number of commits is much lower during the weekends (the sql dayofweek function sets Sunday as day 1 and Saturday as 7)"
   ]
  },
  {
   "cell_type": "code",
   "execution_count": 506,
   "metadata": {
    "collapsed": false
   },
   "outputs": [
    {
     "data": {
      "text/plain": [
       "week_day\n",
       "1    34203\n",
       "2    52807\n",
       "3    57153\n",
       "4    55732\n",
       "5    55707\n",
       "6    53087\n",
       "7    33173\n",
       "Name: num_commits, dtype: int64"
      ]
     },
     "execution_count": 506,
     "metadata": {},
     "output_type": "execute_result"
    }
   ],
   "source": [
    "mit.groupby('week_day').num_commits.sum()"
   ]
  },
  {
   "cell_type": "code",
   "execution_count": 507,
   "metadata": {
    "collapsed": false
   },
   "outputs": [
    {
     "data": {
      "text/html": [
       "<div>\n",
       "<table border=\"1\" class=\"dataframe\">\n",
       "  <thead>\n",
       "    <tr style=\"text-align: right;\">\n",
       "      <th></th>\n",
       "      <th>date</th>\n",
       "      <th>year_day</th>\n",
       "      <th>week_day</th>\n",
       "      <th>num_commits</th>\n",
       "      <th>num_committers</th>\n",
       "    </tr>\n",
       "  </thead>\n",
       "  <tbody>\n",
       "    <tr>\n",
       "      <th>count</th>\n",
       "      <td>6474</td>\n",
       "      <td>6474.000000</td>\n",
       "      <td>6474.000000</td>\n",
       "      <td>6474.000000</td>\n",
       "      <td>6474.000000</td>\n",
       "    </tr>\n",
       "    <tr>\n",
       "      <th>unique</th>\n",
       "      <td>6474</td>\n",
       "      <td>NaN</td>\n",
       "      <td>NaN</td>\n",
       "      <td>NaN</td>\n",
       "      <td>NaN</td>\n",
       "    </tr>\n",
       "    <tr>\n",
       "      <th>top</th>\n",
       "      <td>2005-05-29 00:00:00</td>\n",
       "      <td>NaN</td>\n",
       "      <td>NaN</td>\n",
       "      <td>NaN</td>\n",
       "      <td>NaN</td>\n",
       "    </tr>\n",
       "    <tr>\n",
       "      <th>freq</th>\n",
       "      <td>1</td>\n",
       "      <td>NaN</td>\n",
       "      <td>NaN</td>\n",
       "      <td>NaN</td>\n",
       "      <td>NaN</td>\n",
       "    </tr>\n",
       "    <tr>\n",
       "      <th>first</th>\n",
       "      <td>1993-06-05 00:00:00</td>\n",
       "      <td>NaN</td>\n",
       "      <td>NaN</td>\n",
       "      <td>NaN</td>\n",
       "      <td>NaN</td>\n",
       "    </tr>\n",
       "    <tr>\n",
       "      <th>last</th>\n",
       "      <td>2017-05-11 00:00:00</td>\n",
       "      <td>NaN</td>\n",
       "      <td>NaN</td>\n",
       "      <td>NaN</td>\n",
       "      <td>NaN</td>\n",
       "    </tr>\n",
       "    <tr>\n",
       "      <th>mean</th>\n",
       "      <td>NaN</td>\n",
       "      <td>181.025950</td>\n",
       "      <td>4.017146</td>\n",
       "      <td>52.805375</td>\n",
       "      <td>13.533364</td>\n",
       "    </tr>\n",
       "    <tr>\n",
       "      <th>std</th>\n",
       "      <td>NaN</td>\n",
       "      <td>106.264857</td>\n",
       "      <td>1.969452</td>\n",
       "      <td>66.207013</td>\n",
       "      <td>16.242767</td>\n",
       "    </tr>\n",
       "    <tr>\n",
       "      <th>min</th>\n",
       "      <td>NaN</td>\n",
       "      <td>1.000000</td>\n",
       "      <td>1.000000</td>\n",
       "      <td>1.000000</td>\n",
       "      <td>1.000000</td>\n",
       "    </tr>\n",
       "    <tr>\n",
       "      <th>25%</th>\n",
       "      <td>NaN</td>\n",
       "      <td>88.000000</td>\n",
       "      <td>2.000000</td>\n",
       "      <td>5.000000</td>\n",
       "      <td>2.000000</td>\n",
       "    </tr>\n",
       "    <tr>\n",
       "      <th>50%</th>\n",
       "      <td>NaN</td>\n",
       "      <td>181.000000</td>\n",
       "      <td>4.000000</td>\n",
       "      <td>16.000000</td>\n",
       "      <td>4.000000</td>\n",
       "    </tr>\n",
       "    <tr>\n",
       "      <th>75%</th>\n",
       "      <td>NaN</td>\n",
       "      <td>273.000000</td>\n",
       "      <td>6.000000</td>\n",
       "      <td>88.000000</td>\n",
       "      <td>22.000000</td>\n",
       "    </tr>\n",
       "    <tr>\n",
       "      <th>max</th>\n",
       "      <td>NaN</td>\n",
       "      <td>366.000000</td>\n",
       "      <td>7.000000</td>\n",
       "      <td>747.000000</td>\n",
       "      <td>79.000000</td>\n",
       "    </tr>\n",
       "  </tbody>\n",
       "</table>\n",
       "</div>"
      ],
      "text/plain": [
       "                       date     year_day     week_day  num_commits  \\\n",
       "count                  6474  6474.000000  6474.000000  6474.000000   \n",
       "unique                 6474          NaN          NaN          NaN   \n",
       "top     2005-05-29 00:00:00          NaN          NaN          NaN   \n",
       "freq                      1          NaN          NaN          NaN   \n",
       "first   1993-06-05 00:00:00          NaN          NaN          NaN   \n",
       "last    2017-05-11 00:00:00          NaN          NaN          NaN   \n",
       "mean                    NaN   181.025950     4.017146    52.805375   \n",
       "std                     NaN   106.264857     1.969452    66.207013   \n",
       "min                     NaN     1.000000     1.000000     1.000000   \n",
       "25%                     NaN    88.000000     2.000000     5.000000   \n",
       "50%                     NaN   181.000000     4.000000    16.000000   \n",
       "75%                     NaN   273.000000     6.000000    88.000000   \n",
       "max                     NaN   366.000000     7.000000   747.000000   \n",
       "\n",
       "        num_committers  \n",
       "count      6474.000000  \n",
       "unique             NaN  \n",
       "top                NaN  \n",
       "freq               NaN  \n",
       "first              NaN  \n",
       "last               NaN  \n",
       "mean         13.533364  \n",
       "std          16.242767  \n",
       "min           1.000000  \n",
       "25%           2.000000  \n",
       "50%           4.000000  \n",
       "75%          22.000000  \n",
       "max          79.000000  "
      ]
     },
     "execution_count": 507,
     "metadata": {},
     "output_type": "execute_result"
    }
   ],
   "source": [
    "mit.describe(include='all')"
   ]
  },
  {
   "cell_type": "markdown",
   "metadata": {},
   "source": [
    "There seems to be a large variance in num_commits. \n",
    "\n",
    "This is partly due to the large differences in Github activity between the years:"
   ]
  },
  {
   "cell_type": "code",
   "execution_count": 508,
   "metadata": {
    "collapsed": false
   },
   "outputs": [
    {
     "data": {
      "text/plain": [
       "date\n",
       "1993        4\n",
       "1994       48\n",
       "1995      185\n",
       "1996      267\n",
       "1997      460\n",
       "1998      375\n",
       "1999     1142\n",
       "2000     1465\n",
       "2001     2632\n",
       "2002     2374\n",
       "2003     3481\n",
       "2004     2388\n",
       "2005     1760\n",
       "2006     1191\n",
       "2007     2870\n",
       "2008     5351\n",
       "2009     9336\n",
       "2010    20346\n",
       "2011    25871\n",
       "2012    35303\n",
       "2013    43882\n",
       "2014    51075\n",
       "2015    62151\n",
       "2016    54421\n",
       "2017    13484\n",
       "Name: num_commits, dtype: int64"
      ]
     },
     "execution_count": 508,
     "metadata": {},
     "output_type": "execute_result"
    }
   ],
   "source": [
    "mit.groupby(mit['date'].map(lambda x: x.year)).num_commits.sum()"
   ]
  },
  {
   "cell_type": "markdown",
   "metadata": {},
   "source": [
    "We might have to do something about this later, but for now let's just load the rest of our data"
   ]
  },
  {
   "cell_type": "markdown",
   "metadata": {},
   "source": [
    "## Weather data"
   ]
  },
  {
   "cell_type": "markdown",
   "metadata": {},
   "source": [
    "After a bit of searching, I found that there is one main station that's close to MIT and has a significant amount of data - the station at Logan international airport (station 725090)"
   ]
  },
  {
   "cell_type": "code",
   "execution_count": 565,
   "metadata": {
    "collapsed": true
   },
   "outputs": [],
   "source": [
    "%%sql --module weather_query\n",
    "SELECT\n",
    "  -- Create a timestamp from the date components.\n",
    "  timestamp(concat(year,\"-\",mo,\"-\",da)) as date,\n",
    "  -- Replace numerical null values with 0s\n",
    "  max(IF (max=9999.9, 0, max)) AS max_temp,\n",
    "  min(IF (min=9999.9, 0, min)) AS min_temp,\n",
    "  max(IF (prcp=99.99, 0, prcp)) AS rain,\n",
    "  max(IF (sndp=999.9, 0, sndp)) AS snow_depth,\n",
    "  max(snow_ice_pellets) as ice_pellets,\n",
    "  max(hail) as hail\n",
    "FROM (table_query([bigquery-public-data:noaa_gsod],'table_id contains \"gsod20\"'))\n",
    "WHERE\n",
    "  integer(YEAR) >= 2000 -- We'll ignore data from before the year 2000, as there were very few git commits before that time\n",
    "  AND stn=\"725090\" \n",
    "GROUP BY date"
   ]
  },
  {
   "cell_type": "code",
   "execution_count": 566,
   "metadata": {
    "collapsed": false
   },
   "outputs": [],
   "source": [
    "weather = bq.Query(weather_query, dialect='standard').to_dataframe()"
   ]
  },
  {
   "cell_type": "markdown",
   "metadata": {},
   "source": [
    "We should start by inspecting the weather data:"
   ]
  },
  {
   "cell_type": "code",
   "execution_count": 567,
   "metadata": {
    "collapsed": false
   },
   "outputs": [
    {
     "name": "stdout",
     "output_type": "stream",
     "text": [
      "<class 'pandas.core.frame.DataFrame'>\n",
      "RangeIndex: 6347 entries, 0 to 6346\n",
      "Data columns (total 7 columns):\n",
      "date           6347 non-null datetime64[ns]\n",
      "max_temp       6347 non-null float64\n",
      "min_temp       6347 non-null float64\n",
      "rain           6347 non-null float64\n",
      "snow_depth     6347 non-null float64\n",
      "ice_pellets    6347 non-null object\n",
      "hail           6347 non-null object\n",
      "dtypes: datetime64[ns](1), float64(4), object(2)\n",
      "memory usage: 347.2+ KB\n"
     ]
    }
   ],
   "source": [
    "weather.info()"
   ]
  },
  {
   "cell_type": "code",
   "execution_count": null,
   "metadata": {
    "collapsed": false
   },
   "outputs": [],
   "source": [
    "#Changing string columns to an easier to use type\n",
    "weather['ice_pellets'] = weather['ice_pellets'].astype('int')\n",
    "weather['hail'] = weather['hail'].astype('int')"
   ]
  },
  {
   "cell_type": "code",
   "execution_count": 569,
   "metadata": {
    "collapsed": false
   },
   "outputs": [
    {
     "data": {
      "text/html": [
       "<div>\n",
       "<table border=\"1\" class=\"dataframe\">\n",
       "  <thead>\n",
       "    <tr style=\"text-align: right;\">\n",
       "      <th></th>\n",
       "      <th>date</th>\n",
       "      <th>max_temp</th>\n",
       "      <th>min_temp</th>\n",
       "      <th>rain</th>\n",
       "      <th>snow_depth</th>\n",
       "      <th>ice_pellets</th>\n",
       "      <th>hail</th>\n",
       "    </tr>\n",
       "  </thead>\n",
       "  <tbody>\n",
       "    <tr>\n",
       "      <th>0</th>\n",
       "      <td>2015-03-03</td>\n",
       "      <td>37.0</td>\n",
       "      <td>19.9</td>\n",
       "      <td>0.01</td>\n",
       "      <td>0.0</td>\n",
       "      <td>1</td>\n",
       "      <td>0</td>\n",
       "    </tr>\n",
       "    <tr>\n",
       "      <th>1</th>\n",
       "      <td>2015-04-01</td>\n",
       "      <td>50.0</td>\n",
       "      <td>30.0</td>\n",
       "      <td>0.00</td>\n",
       "      <td>0.0</td>\n",
       "      <td>0</td>\n",
       "      <td>0</td>\n",
       "    </tr>\n",
       "    <tr>\n",
       "      <th>2</th>\n",
       "      <td>2015-05-21</td>\n",
       "      <td>66.9</td>\n",
       "      <td>45.0</td>\n",
       "      <td>0.00</td>\n",
       "      <td>0.0</td>\n",
       "      <td>0</td>\n",
       "      <td>0</td>\n",
       "    </tr>\n",
       "    <tr>\n",
       "      <th>3</th>\n",
       "      <td>2015-06-02</td>\n",
       "      <td>48.9</td>\n",
       "      <td>46.0</td>\n",
       "      <td>0.88</td>\n",
       "      <td>0.0</td>\n",
       "      <td>0</td>\n",
       "      <td>0</td>\n",
       "    </tr>\n",
       "    <tr>\n",
       "      <th>4</th>\n",
       "      <td>2015-06-07</td>\n",
       "      <td>66.9</td>\n",
       "      <td>52.0</td>\n",
       "      <td>0.00</td>\n",
       "      <td>0.0</td>\n",
       "      <td>0</td>\n",
       "      <td>0</td>\n",
       "    </tr>\n",
       "    <tr>\n",
       "      <th>5</th>\n",
       "      <td>2015-09-10</td>\n",
       "      <td>79.0</td>\n",
       "      <td>64.4</td>\n",
       "      <td>0.00</td>\n",
       "      <td>0.0</td>\n",
       "      <td>0</td>\n",
       "      <td>0</td>\n",
       "    </tr>\n",
       "    <tr>\n",
       "      <th>6</th>\n",
       "      <td>2015-09-13</td>\n",
       "      <td>71.1</td>\n",
       "      <td>60.1</td>\n",
       "      <td>0.01</td>\n",
       "      <td>0.0</td>\n",
       "      <td>0</td>\n",
       "      <td>0</td>\n",
       "    </tr>\n",
       "    <tr>\n",
       "      <th>7</th>\n",
       "      <td>2015-10-31</td>\n",
       "      <td>61.0</td>\n",
       "      <td>37.9</td>\n",
       "      <td>0.00</td>\n",
       "      <td>0.0</td>\n",
       "      <td>0</td>\n",
       "      <td>0</td>\n",
       "    </tr>\n",
       "    <tr>\n",
       "      <th>8</th>\n",
       "      <td>2014-01-03</td>\n",
       "      <td>14.0</td>\n",
       "      <td>1.4</td>\n",
       "      <td>0.48</td>\n",
       "      <td>0.0</td>\n",
       "      <td>1</td>\n",
       "      <td>0</td>\n",
       "    </tr>\n",
       "    <tr>\n",
       "      <th>9</th>\n",
       "      <td>2014-02-07</td>\n",
       "      <td>30.0</td>\n",
       "      <td>19.0</td>\n",
       "      <td>0.00</td>\n",
       "      <td>0.0</td>\n",
       "      <td>0</td>\n",
       "      <td>0</td>\n",
       "    </tr>\n",
       "  </tbody>\n",
       "</table>\n",
       "</div>"
      ],
      "text/plain": [
       "        date  max_temp  min_temp  rain  snow_depth  ice_pellets  hail\n",
       "0 2015-03-03      37.0      19.9  0.01         0.0            1     0\n",
       "1 2015-04-01      50.0      30.0  0.00         0.0            0     0\n",
       "2 2015-05-21      66.9      45.0  0.00         0.0            0     0\n",
       "3 2015-06-02      48.9      46.0  0.88         0.0            0     0\n",
       "4 2015-06-07      66.9      52.0  0.00         0.0            0     0\n",
       "5 2015-09-10      79.0      64.4  0.00         0.0            0     0\n",
       "6 2015-09-13      71.1      60.1  0.01         0.0            0     0\n",
       "7 2015-10-31      61.0      37.9  0.00         0.0            0     0\n",
       "8 2014-01-03      14.0       1.4  0.48         0.0            1     0\n",
       "9 2014-02-07      30.0      19.0  0.00         0.0            0     0"
      ]
     },
     "execution_count": 569,
     "metadata": {},
     "output_type": "execute_result"
    }
   ],
   "source": [
    "weather.head(10)"
   ]
  },
  {
   "cell_type": "code",
   "execution_count": 570,
   "metadata": {
    "collapsed": false
   },
   "outputs": [
    {
     "data": {
      "text/html": [
       "<div>\n",
       "<table border=\"1\" class=\"dataframe\">\n",
       "  <thead>\n",
       "    <tr style=\"text-align: right;\">\n",
       "      <th></th>\n",
       "      <th>date</th>\n",
       "      <th>max_temp</th>\n",
       "      <th>min_temp</th>\n",
       "      <th>rain</th>\n",
       "      <th>snow_depth</th>\n",
       "      <th>ice_pellets</th>\n",
       "      <th>hail</th>\n",
       "    </tr>\n",
       "  </thead>\n",
       "  <tbody>\n",
       "    <tr>\n",
       "      <th>count</th>\n",
       "      <td>6347</td>\n",
       "      <td>6347.000000</td>\n",
       "      <td>6347.000000</td>\n",
       "      <td>6347.000000</td>\n",
       "      <td>6347.000000</td>\n",
       "      <td>6347.000000</td>\n",
       "      <td>6347.000000</td>\n",
       "    </tr>\n",
       "    <tr>\n",
       "      <th>unique</th>\n",
       "      <td>6347</td>\n",
       "      <td>NaN</td>\n",
       "      <td>NaN</td>\n",
       "      <td>NaN</td>\n",
       "      <td>NaN</td>\n",
       "      <td>NaN</td>\n",
       "      <td>NaN</td>\n",
       "    </tr>\n",
       "    <tr>\n",
       "      <th>top</th>\n",
       "      <td>2005-05-29 00:00:00</td>\n",
       "      <td>NaN</td>\n",
       "      <td>NaN</td>\n",
       "      <td>NaN</td>\n",
       "      <td>NaN</td>\n",
       "      <td>NaN</td>\n",
       "      <td>NaN</td>\n",
       "    </tr>\n",
       "    <tr>\n",
       "      <th>freq</th>\n",
       "      <td>1</td>\n",
       "      <td>NaN</td>\n",
       "      <td>NaN</td>\n",
       "      <td>NaN</td>\n",
       "      <td>NaN</td>\n",
       "      <td>NaN</td>\n",
       "      <td>NaN</td>\n",
       "    </tr>\n",
       "    <tr>\n",
       "      <th>first</th>\n",
       "      <td>2000-01-01 00:00:00</td>\n",
       "      <td>NaN</td>\n",
       "      <td>NaN</td>\n",
       "      <td>NaN</td>\n",
       "      <td>NaN</td>\n",
       "      <td>NaN</td>\n",
       "      <td>NaN</td>\n",
       "    </tr>\n",
       "    <tr>\n",
       "      <th>last</th>\n",
       "      <td>2017-05-17 00:00:00</td>\n",
       "      <td>NaN</td>\n",
       "      <td>NaN</td>\n",
       "      <td>NaN</td>\n",
       "      <td>NaN</td>\n",
       "      <td>NaN</td>\n",
       "      <td>NaN</td>\n",
       "    </tr>\n",
       "    <tr>\n",
       "      <th>mean</th>\n",
       "      <td>NaN</td>\n",
       "      <td>61.907358</td>\n",
       "      <td>43.193887</td>\n",
       "      <td>0.118549</td>\n",
       "      <td>0.086230</td>\n",
       "      <td>0.109185</td>\n",
       "      <td>0.000788</td>\n",
       "    </tr>\n",
       "    <tr>\n",
       "      <th>std</th>\n",
       "      <td>NaN</td>\n",
       "      <td>18.160551</td>\n",
       "      <td>16.698586</td>\n",
       "      <td>0.305868</td>\n",
       "      <td>0.738218</td>\n",
       "      <td>0.311896</td>\n",
       "      <td>0.028058</td>\n",
       "    </tr>\n",
       "    <tr>\n",
       "      <th>min</th>\n",
       "      <td>NaN</td>\n",
       "      <td>8.100000</td>\n",
       "      <td>-11.900000</td>\n",
       "      <td>0.000000</td>\n",
       "      <td>0.000000</td>\n",
       "      <td>0.000000</td>\n",
       "      <td>0.000000</td>\n",
       "    </tr>\n",
       "    <tr>\n",
       "      <th>25%</th>\n",
       "      <td>NaN</td>\n",
       "      <td>46.900000</td>\n",
       "      <td>30.900000</td>\n",
       "      <td>0.000000</td>\n",
       "      <td>0.000000</td>\n",
       "      <td>0.000000</td>\n",
       "      <td>0.000000</td>\n",
       "    </tr>\n",
       "    <tr>\n",
       "      <th>50%</th>\n",
       "      <td>NaN</td>\n",
       "      <td>62.100000</td>\n",
       "      <td>44.100000</td>\n",
       "      <td>0.000000</td>\n",
       "      <td>0.000000</td>\n",
       "      <td>0.000000</td>\n",
       "      <td>0.000000</td>\n",
       "    </tr>\n",
       "    <tr>\n",
       "      <th>75%</th>\n",
       "      <td>NaN</td>\n",
       "      <td>77.000000</td>\n",
       "      <td>57.900000</td>\n",
       "      <td>0.070000</td>\n",
       "      <td>0.000000</td>\n",
       "      <td>0.000000</td>\n",
       "      <td>0.000000</td>\n",
       "    </tr>\n",
       "    <tr>\n",
       "      <th>max</th>\n",
       "      <td>NaN</td>\n",
       "      <td>102.900000</td>\n",
       "      <td>79.000000</td>\n",
       "      <td>4.350000</td>\n",
       "      <td>16.900000</td>\n",
       "      <td>1.000000</td>\n",
       "      <td>1.000000</td>\n",
       "    </tr>\n",
       "  </tbody>\n",
       "</table>\n",
       "</div>"
      ],
      "text/plain": [
       "                       date     max_temp     min_temp         rain  \\\n",
       "count                  6347  6347.000000  6347.000000  6347.000000   \n",
       "unique                 6347          NaN          NaN          NaN   \n",
       "top     2005-05-29 00:00:00          NaN          NaN          NaN   \n",
       "freq                      1          NaN          NaN          NaN   \n",
       "first   2000-01-01 00:00:00          NaN          NaN          NaN   \n",
       "last    2017-05-17 00:00:00          NaN          NaN          NaN   \n",
       "mean                    NaN    61.907358    43.193887     0.118549   \n",
       "std                     NaN    18.160551    16.698586     0.305868   \n",
       "min                     NaN     8.100000   -11.900000     0.000000   \n",
       "25%                     NaN    46.900000    30.900000     0.000000   \n",
       "50%                     NaN    62.100000    44.100000     0.000000   \n",
       "75%                     NaN    77.000000    57.900000     0.070000   \n",
       "max                     NaN   102.900000    79.000000     4.350000   \n",
       "\n",
       "         snow_depth  ice_pellets         hail  \n",
       "count   6347.000000  6347.000000  6347.000000  \n",
       "unique          NaN          NaN          NaN  \n",
       "top             NaN          NaN          NaN  \n",
       "freq            NaN          NaN          NaN  \n",
       "first           NaN          NaN          NaN  \n",
       "last            NaN          NaN          NaN  \n",
       "mean       0.086230     0.109185     0.000788  \n",
       "std        0.738218     0.311896     0.028058  \n",
       "min        0.000000     0.000000     0.000000  \n",
       "25%        0.000000     0.000000     0.000000  \n",
       "50%        0.000000     0.000000     0.000000  \n",
       "75%        0.000000     0.000000     0.000000  \n",
       "max       16.900000     1.000000     1.000000  "
      ]
     },
     "execution_count": 570,
     "metadata": {},
     "output_type": "execute_result"
    }
   ],
   "source": [
    "weather.describe(include='all')"
   ]
  },
  {
   "cell_type": "markdown",
   "metadata": {},
   "source": [
    "The hail, ice_pellets and snow_depth columns seem a bit sparse. We'll take a closer look at what they actually contain:"
   ]
  },
  {
   "cell_type": "code",
   "execution_count": 571,
   "metadata": {
    "collapsed": false
   },
   "outputs": [
    {
     "data": {
      "text/plain": [
       "0    6342\n",
       "1       5\n",
       "Name: hail, dtype: int64"
      ]
     },
     "execution_count": 571,
     "metadata": {},
     "output_type": "execute_result"
    }
   ],
   "source": [
    "weather.hail.value_counts()"
   ]
  },
  {
   "cell_type": "code",
   "execution_count": 572,
   "metadata": {
    "collapsed": false
   },
   "outputs": [
    {
     "data": {
      "text/plain": [
       "0    5654\n",
       "1     693\n",
       "Name: ice_pellets, dtype: int64"
      ]
     },
     "execution_count": 572,
     "metadata": {},
     "output_type": "execute_result"
    }
   ],
   "source": [
    "weather.ice_pellets.value_counts()"
   ]
  },
  {
   "cell_type": "code",
   "execution_count": 573,
   "metadata": {
    "collapsed": false
   },
   "outputs": [
    {
     "data": {
      "text/plain": [
       "161"
      ]
     },
     "execution_count": 573,
     "metadata": {},
     "output_type": "execute_result"
    }
   ],
   "source": [
    "weather[weather['snow_depth'] > 0].date.count()"
   ]
  },
  {
   "cell_type": "markdown",
   "metadata": {},
   "source": [
    "There are only 5 recorded cases of hail, so it would be better to remove this column as it does not contain any real information"
   ]
  },
  {
   "cell_type": "markdown",
   "metadata": {},
   "source": [
    "The other two columns are also somewhat sparse, but not nearly as much, so we'll keep them for now"
   ]
  },
  {
   "cell_type": "code",
   "execution_count": 574,
   "metadata": {
    "collapsed": false
   },
   "outputs": [],
   "source": [
    "weather = weather[['date', 'max_temp', 'min_temp', 'rain', 'snow_depth', 'ice_pellets']]"
   ]
  },
  {
   "cell_type": "markdown",
   "metadata": {},
   "source": [
    "## Preprocessing our data"
   ]
  },
  {
   "cell_type": "markdown",
   "metadata": {},
   "source": [
    "We can join the weather and MIT commits data by the date column"
   ]
  },
  {
   "cell_type": "code",
   "execution_count": 575,
   "metadata": {
    "collapsed": false
   },
   "outputs": [],
   "source": [
    "input_data = pd.merge(mit, weather, on='date')"
   ]
  },
  {
   "cell_type": "code",
   "execution_count": 578,
   "metadata": {
    "collapsed": false
   },
   "outputs": [
    {
     "data": {
      "text/html": [
       "<div>\n",
       "<table border=\"1\" class=\"dataframe\">\n",
       "  <thead>\n",
       "    <tr style=\"text-align: right;\">\n",
       "      <th></th>\n",
       "      <th>date</th>\n",
       "      <th>year_day</th>\n",
       "      <th>week_day</th>\n",
       "      <th>num_commits</th>\n",
       "      <th>num_committers</th>\n",
       "      <th>max_temp</th>\n",
       "      <th>min_temp</th>\n",
       "      <th>rain</th>\n",
       "      <th>snow_depth</th>\n",
       "      <th>ice_pellets</th>\n",
       "    </tr>\n",
       "  </thead>\n",
       "  <tbody>\n",
       "    <tr>\n",
       "      <th>0</th>\n",
       "      <td>2008-09-12</td>\n",
       "      <td>256</td>\n",
       "      <td>6</td>\n",
       "      <td>747</td>\n",
       "      <td>6</td>\n",
       "      <td>68.0</td>\n",
       "      <td>53.1</td>\n",
       "      <td>0.00</td>\n",
       "      <td>0.0</td>\n",
       "      <td>0</td>\n",
       "    </tr>\n",
       "    <tr>\n",
       "      <th>1</th>\n",
       "      <td>2015-01-21</td>\n",
       "      <td>21</td>\n",
       "      <td>4</td>\n",
       "      <td>519</td>\n",
       "      <td>62</td>\n",
       "      <td>39.0</td>\n",
       "      <td>21.9</td>\n",
       "      <td>0.00</td>\n",
       "      <td>0.0</td>\n",
       "      <td>0</td>\n",
       "    </tr>\n",
       "    <tr>\n",
       "      <th>2</th>\n",
       "      <td>2014-01-14</td>\n",
       "      <td>14</td>\n",
       "      <td>3</td>\n",
       "      <td>458</td>\n",
       "      <td>37</td>\n",
       "      <td>51.1</td>\n",
       "      <td>30.9</td>\n",
       "      <td>0.00</td>\n",
       "      <td>0.0</td>\n",
       "      <td>0</td>\n",
       "    </tr>\n",
       "    <tr>\n",
       "      <th>3</th>\n",
       "      <td>2015-05-12</td>\n",
       "      <td>132</td>\n",
       "      <td>3</td>\n",
       "      <td>404</td>\n",
       "      <td>53</td>\n",
       "      <td>87.1</td>\n",
       "      <td>48.0</td>\n",
       "      <td>0.02</td>\n",
       "      <td>0.0</td>\n",
       "      <td>0</td>\n",
       "    </tr>\n",
       "    <tr>\n",
       "      <th>4</th>\n",
       "      <td>2015-04-14</td>\n",
       "      <td>104</td>\n",
       "      <td>3</td>\n",
       "      <td>388</td>\n",
       "      <td>62</td>\n",
       "      <td>69.1</td>\n",
       "      <td>41.0</td>\n",
       "      <td>0.00</td>\n",
       "      <td>0.0</td>\n",
       "      <td>0</td>\n",
       "    </tr>\n",
       "    <tr>\n",
       "      <th>5</th>\n",
       "      <td>2013-11-14</td>\n",
       "      <td>318</td>\n",
       "      <td>5</td>\n",
       "      <td>368</td>\n",
       "      <td>43</td>\n",
       "      <td>52.0</td>\n",
       "      <td>26.1</td>\n",
       "      <td>0.00</td>\n",
       "      <td>0.0</td>\n",
       "      <td>0</td>\n",
       "    </tr>\n",
       "    <tr>\n",
       "      <th>6</th>\n",
       "      <td>2013-10-06</td>\n",
       "      <td>279</td>\n",
       "      <td>1</td>\n",
       "      <td>352</td>\n",
       "      <td>32</td>\n",
       "      <td>61.0</td>\n",
       "      <td>55.4</td>\n",
       "      <td>0.06</td>\n",
       "      <td>0.0</td>\n",
       "      <td>0</td>\n",
       "    </tr>\n",
       "    <tr>\n",
       "      <th>7</th>\n",
       "      <td>2015-04-15</td>\n",
       "      <td>105</td>\n",
       "      <td>4</td>\n",
       "      <td>339</td>\n",
       "      <td>58</td>\n",
       "      <td>66.9</td>\n",
       "      <td>50.0</td>\n",
       "      <td>0.01</td>\n",
       "      <td>0.0</td>\n",
       "      <td>0</td>\n",
       "    </tr>\n",
       "    <tr>\n",
       "      <th>8</th>\n",
       "      <td>2015-05-01</td>\n",
       "      <td>121</td>\n",
       "      <td>6</td>\n",
       "      <td>331</td>\n",
       "      <td>64</td>\n",
       "      <td>55.0</td>\n",
       "      <td>42.1</td>\n",
       "      <td>0.00</td>\n",
       "      <td>0.0</td>\n",
       "      <td>0</td>\n",
       "    </tr>\n",
       "    <tr>\n",
       "      <th>9</th>\n",
       "      <td>2015-04-29</td>\n",
       "      <td>119</td>\n",
       "      <td>4</td>\n",
       "      <td>330</td>\n",
       "      <td>70</td>\n",
       "      <td>64.0</td>\n",
       "      <td>42.1</td>\n",
       "      <td>0.07</td>\n",
       "      <td>0.0</td>\n",
       "      <td>0</td>\n",
       "    </tr>\n",
       "  </tbody>\n",
       "</table>\n",
       "</div>"
      ],
      "text/plain": [
       "        date  year_day  week_day  num_commits  num_committers  max_temp  \\\n",
       "0 2008-09-12       256         6          747               6      68.0   \n",
       "1 2015-01-21        21         4          519              62      39.0   \n",
       "2 2014-01-14        14         3          458              37      51.1   \n",
       "3 2015-05-12       132         3          404              53      87.1   \n",
       "4 2015-04-14       104         3          388              62      69.1   \n",
       "5 2013-11-14       318         5          368              43      52.0   \n",
       "6 2013-10-06       279         1          352              32      61.0   \n",
       "7 2015-04-15       105         4          339              58      66.9   \n",
       "8 2015-05-01       121         6          331              64      55.0   \n",
       "9 2015-04-29       119         4          330              70      64.0   \n",
       "\n",
       "   min_temp  rain  snow_depth  ice_pellets  \n",
       "0      53.1  0.00         0.0            0  \n",
       "1      21.9  0.00         0.0            0  \n",
       "2      30.9  0.00         0.0            0  \n",
       "3      48.0  0.02         0.0            0  \n",
       "4      41.0  0.00         0.0            0  \n",
       "5      26.1  0.00         0.0            0  \n",
       "6      55.4  0.06         0.0            0  \n",
       "7      50.0  0.01         0.0            0  \n",
       "8      42.1  0.00         0.0            0  \n",
       "9      42.1  0.07         0.0            0  "
      ]
     },
     "execution_count": 578,
     "metadata": {},
     "output_type": "execute_result"
    }
   ],
   "source": [
    "input_data.head(10)"
   ]
  },
  {
   "cell_type": "code",
   "execution_count": 579,
   "metadata": {
    "collapsed": false
   },
   "outputs": [
    {
     "data": {
      "text/html": [
       "<div>\n",
       "<table border=\"1\" class=\"dataframe\">\n",
       "  <thead>\n",
       "    <tr style=\"text-align: right;\">\n",
       "      <th></th>\n",
       "      <th>date</th>\n",
       "      <th>year_day</th>\n",
       "      <th>week_day</th>\n",
       "      <th>num_commits</th>\n",
       "      <th>num_committers</th>\n",
       "      <th>max_temp</th>\n",
       "      <th>min_temp</th>\n",
       "      <th>rain</th>\n",
       "      <th>snow_depth</th>\n",
       "      <th>ice_pellets</th>\n",
       "    </tr>\n",
       "  </thead>\n",
       "  <tbody>\n",
       "    <tr>\n",
       "      <th>count</th>\n",
       "      <td>5975</td>\n",
       "      <td>5975.000000</td>\n",
       "      <td>5975.000000</td>\n",
       "      <td>5975.000000</td>\n",
       "      <td>5975.000000</td>\n",
       "      <td>5975.000000</td>\n",
       "      <td>5975.000000</td>\n",
       "      <td>5975.000000</td>\n",
       "      <td>5975.000000</td>\n",
       "      <td>5975.000000</td>\n",
       "    </tr>\n",
       "    <tr>\n",
       "      <th>unique</th>\n",
       "      <td>5975</td>\n",
       "      <td>NaN</td>\n",
       "      <td>NaN</td>\n",
       "      <td>NaN</td>\n",
       "      <td>NaN</td>\n",
       "      <td>NaN</td>\n",
       "      <td>NaN</td>\n",
       "      <td>NaN</td>\n",
       "      <td>NaN</td>\n",
       "      <td>NaN</td>\n",
       "    </tr>\n",
       "    <tr>\n",
       "      <th>top</th>\n",
       "      <td>2000-10-13 00:00:00</td>\n",
       "      <td>NaN</td>\n",
       "      <td>NaN</td>\n",
       "      <td>NaN</td>\n",
       "      <td>NaN</td>\n",
       "      <td>NaN</td>\n",
       "      <td>NaN</td>\n",
       "      <td>NaN</td>\n",
       "      <td>NaN</td>\n",
       "      <td>NaN</td>\n",
       "    </tr>\n",
       "    <tr>\n",
       "      <th>freq</th>\n",
       "      <td>1</td>\n",
       "      <td>NaN</td>\n",
       "      <td>NaN</td>\n",
       "      <td>NaN</td>\n",
       "      <td>NaN</td>\n",
       "      <td>NaN</td>\n",
       "      <td>NaN</td>\n",
       "      <td>NaN</td>\n",
       "      <td>NaN</td>\n",
       "      <td>NaN</td>\n",
       "    </tr>\n",
       "    <tr>\n",
       "      <th>first</th>\n",
       "      <td>2000-01-01 00:00:00</td>\n",
       "      <td>NaN</td>\n",
       "      <td>NaN</td>\n",
       "      <td>NaN</td>\n",
       "      <td>NaN</td>\n",
       "      <td>NaN</td>\n",
       "      <td>NaN</td>\n",
       "      <td>NaN</td>\n",
       "      <td>NaN</td>\n",
       "      <td>NaN</td>\n",
       "    </tr>\n",
       "    <tr>\n",
       "      <th>last</th>\n",
       "      <td>2017-05-11 00:00:00</td>\n",
       "      <td>NaN</td>\n",
       "      <td>NaN</td>\n",
       "      <td>NaN</td>\n",
       "      <td>NaN</td>\n",
       "      <td>NaN</td>\n",
       "      <td>NaN</td>\n",
       "      <td>NaN</td>\n",
       "      <td>NaN</td>\n",
       "      <td>NaN</td>\n",
       "    </tr>\n",
       "    <tr>\n",
       "      <th>mean</th>\n",
       "      <td>NaN</td>\n",
       "      <td>179.502594</td>\n",
       "      <td>4.008033</td>\n",
       "      <td>56.800167</td>\n",
       "      <td>14.564686</td>\n",
       "      <td>61.863163</td>\n",
       "      <td>43.128987</td>\n",
       "      <td>0.116899</td>\n",
       "      <td>0.087515</td>\n",
       "      <td>0.111297</td>\n",
       "    </tr>\n",
       "    <tr>\n",
       "      <th>std</th>\n",
       "      <td>NaN</td>\n",
       "      <td>105.874005</td>\n",
       "      <td>1.978780</td>\n",
       "      <td>67.371623</td>\n",
       "      <td>16.493827</td>\n",
       "      <td>18.256568</td>\n",
       "      <td>16.804694</td>\n",
       "      <td>0.302763</td>\n",
       "      <td>0.749278</td>\n",
       "      <td>0.314526</td>\n",
       "    </tr>\n",
       "    <tr>\n",
       "      <th>min</th>\n",
       "      <td>NaN</td>\n",
       "      <td>1.000000</td>\n",
       "      <td>1.000000</td>\n",
       "      <td>1.000000</td>\n",
       "      <td>1.000000</td>\n",
       "      <td>8.100000</td>\n",
       "      <td>-11.900000</td>\n",
       "      <td>0.000000</td>\n",
       "      <td>0.000000</td>\n",
       "      <td>0.000000</td>\n",
       "    </tr>\n",
       "    <tr>\n",
       "      <th>25%</th>\n",
       "      <td>NaN</td>\n",
       "      <td>87.000000</td>\n",
       "      <td>2.000000</td>\n",
       "      <td>6.000000</td>\n",
       "      <td>2.000000</td>\n",
       "      <td>46.900000</td>\n",
       "      <td>30.900000</td>\n",
       "      <td>0.000000</td>\n",
       "      <td>0.000000</td>\n",
       "      <td>0.000000</td>\n",
       "    </tr>\n",
       "    <tr>\n",
       "      <th>50%</th>\n",
       "      <td>NaN</td>\n",
       "      <td>178.000000</td>\n",
       "      <td>4.000000</td>\n",
       "      <td>20.000000</td>\n",
       "      <td>6.000000</td>\n",
       "      <td>62.100000</td>\n",
       "      <td>43.000000</td>\n",
       "      <td>0.000000</td>\n",
       "      <td>0.000000</td>\n",
       "      <td>0.000000</td>\n",
       "    </tr>\n",
       "    <tr>\n",
       "      <th>75%</th>\n",
       "      <td>NaN</td>\n",
       "      <td>271.000000</td>\n",
       "      <td>6.000000</td>\n",
       "      <td>95.000000</td>\n",
       "      <td>24.000000</td>\n",
       "      <td>77.000000</td>\n",
       "      <td>57.900000</td>\n",
       "      <td>0.070000</td>\n",
       "      <td>0.000000</td>\n",
       "      <td>0.000000</td>\n",
       "    </tr>\n",
       "    <tr>\n",
       "      <th>max</th>\n",
       "      <td>NaN</td>\n",
       "      <td>366.000000</td>\n",
       "      <td>7.000000</td>\n",
       "      <td>747.000000</td>\n",
       "      <td>79.000000</td>\n",
       "      <td>102.900000</td>\n",
       "      <td>79.000000</td>\n",
       "      <td>4.350000</td>\n",
       "      <td>16.900000</td>\n",
       "      <td>1.000000</td>\n",
       "    </tr>\n",
       "  </tbody>\n",
       "</table>\n",
       "</div>"
      ],
      "text/plain": [
       "                       date     year_day     week_day  num_commits  \\\n",
       "count                  5975  5975.000000  5975.000000  5975.000000   \n",
       "unique                 5975          NaN          NaN          NaN   \n",
       "top     2000-10-13 00:00:00          NaN          NaN          NaN   \n",
       "freq                      1          NaN          NaN          NaN   \n",
       "first   2000-01-01 00:00:00          NaN          NaN          NaN   \n",
       "last    2017-05-11 00:00:00          NaN          NaN          NaN   \n",
       "mean                    NaN   179.502594     4.008033    56.800167   \n",
       "std                     NaN   105.874005     1.978780    67.371623   \n",
       "min                     NaN     1.000000     1.000000     1.000000   \n",
       "25%                     NaN    87.000000     2.000000     6.000000   \n",
       "50%                     NaN   178.000000     4.000000    20.000000   \n",
       "75%                     NaN   271.000000     6.000000    95.000000   \n",
       "max                     NaN   366.000000     7.000000   747.000000   \n",
       "\n",
       "        num_committers     max_temp     min_temp         rain   snow_depth  \\\n",
       "count      5975.000000  5975.000000  5975.000000  5975.000000  5975.000000   \n",
       "unique             NaN          NaN          NaN          NaN          NaN   \n",
       "top                NaN          NaN          NaN          NaN          NaN   \n",
       "freq               NaN          NaN          NaN          NaN          NaN   \n",
       "first              NaN          NaN          NaN          NaN          NaN   \n",
       "last               NaN          NaN          NaN          NaN          NaN   \n",
       "mean         14.564686    61.863163    43.128987     0.116899     0.087515   \n",
       "std          16.493827    18.256568    16.804694     0.302763     0.749278   \n",
       "min           1.000000     8.100000   -11.900000     0.000000     0.000000   \n",
       "25%           2.000000    46.900000    30.900000     0.000000     0.000000   \n",
       "50%           6.000000    62.100000    43.000000     0.000000     0.000000   \n",
       "75%          24.000000    77.000000    57.900000     0.070000     0.000000   \n",
       "max          79.000000   102.900000    79.000000     4.350000    16.900000   \n",
       "\n",
       "        ice_pellets  \n",
       "count   5975.000000  \n",
       "unique          NaN  \n",
       "top             NaN  \n",
       "freq            NaN  \n",
       "first           NaN  \n",
       "last            NaN  \n",
       "mean       0.111297  \n",
       "std        0.314526  \n",
       "min        0.000000  \n",
       "25%        0.000000  \n",
       "50%        0.000000  \n",
       "75%        0.000000  \n",
       "max        1.000000  "
      ]
     },
     "execution_count": 579,
     "metadata": {},
     "output_type": "execute_result"
    }
   ],
   "source": [
    "input_data.describe(include='all')"
   ]
  },
  {
   "cell_type": "markdown",
   "metadata": {},
   "source": [
    "As we saw earlier, there is a big variance in the num_commits between different days, largely due to the large differences between years.\n",
    "\n",
    "We can add a 'year' field explicitly, which will allow us to deal with this issue"
   ]
  },
  {
   "cell_type": "code",
   "execution_count": 581,
   "metadata": {
    "collapsed": false
   },
   "outputs": [],
   "source": [
    "input_data['year'] = input_data.date.dt.year"
   ]
  },
  {
   "cell_type": "markdown",
   "metadata": {},
   "source": [
    "We can look at the correlation between these two fields and others:"
   ]
  },
  {
   "cell_type": "code",
   "execution_count": 580,
   "metadata": {
    "collapsed": true
   },
   "outputs": [],
   "source": [
    "#Helper function to plot correlations easily\n",
    "def plot_corr(df,size=15):\n",
    "    corr = df.corr()\n",
    "    fig, ax = plt.subplots(figsize=(size, size))\n",
    "    ax.matshow(corr)\n",
    "    plt.xticks(range(len(corr.columns)), corr.columns);\n",
    "    plt.yticks(range(len(corr.columns)), corr.columns);"
   ]
  },
  {
   "cell_type": "markdown",
   "metadata": {},
   "source": []
  },
  {
   "cell_type": "code",
   "execution_count": 582,
   "metadata": {
    "collapsed": false
   },
   "outputs": [
    {
     "data": {
      "image/png": "[encoded data removed]",
      "text/plain": [
       "<matplotlib.figure.Figure at 0x7faf7c37a310>"
      ]
     },
     "metadata": {},
     "output_type": "display_data"
    }
   ],
   "source": [
    "plot_corr(input_data)"
   ]
  },
  {
   "cell_type": "markdown",
   "metadata": {},
   "source": [
    "We see that indeed there is a strong correlation between year and num_commits.\n",
    "\n",
    "Unfortunately, most of the weather parameters don't seem to have to strong an effect on the number of commits, excluding the snow depth, which has a negative effect on this number.\n",
    "\n",
    "max and min temp are also strongly correlated, so that it might be enough to just use one of them, or the average, instead of both. They are also correlated to the time of the year (year_day), which is not very surprising.\n"
   ]
  },
  {
   "cell_type": "code",
   "execution_count": 583,
   "metadata": {
    "collapsed": false
   },
   "outputs": [
    {
     "data": {
      "text/plain": [
       "year\n",
       "2000      5.086806\n",
       "2001      7.718475\n",
       "2002      7.107784\n",
       "2003      9.778090\n",
       "2004      7.302752\n",
       "2005      5.714286\n",
       "2006      4.223404\n",
       "2007      8.516320\n",
       "2008     15.288571\n",
       "2009     25.648352\n",
       "2010     55.742466\n",
       "2011     70.879452\n",
       "2012     96.456284\n",
       "2013    120.224658\n",
       "2014    139.931507\n",
       "2015    170.276712\n",
       "2016    148.691257\n",
       "2017    102.931298\n",
       "Name: num_commits, dtype: float64"
      ]
     },
     "execution_count": 583,
     "metadata": {},
     "output_type": "execute_result"
    }
   ],
   "source": [
    "input_data.groupby('year').num_commits.mean()"
   ]
  },
  {
   "cell_type": "markdown",
   "metadata": {},
   "source": [
    "We see a very big difference between recent years compared to the number of commits in the early 2000's. \n",
    "\n",
    "It's likely that commit patterns have changed quite a bit, so using older data might negatively affect our predictor. We'll limit our investigation to data from after 2010. It will remove a lot of data, but data that is too different would hurt more than it would help."
   ]
  },
  {
   "cell_type": "code",
   "execution_count": 631,
   "metadata": {
    "collapsed": false
   },
   "outputs": [
    {
     "data": {
      "text/plain": [
       "(2688, 11)"
      ]
     },
     "execution_count": 631,
     "metadata": {},
     "output_type": "execute_result"
    }
   ],
   "source": [
    "input_data = input_data[input_data.year >= 2010]\n",
    "\n",
    "input_data.shape"
   ]
  },
  {
   "cell_type": "markdown",
   "metadata": {},
   "source": [
    "We don't want our model to be affected by the year, so we'll normalize our data to remove this correlation:"
   ]
  },
  {
   "cell_type": "code",
   "execution_count": 587,
   "metadata": {
    "collapsed": false
   },
   "outputs": [],
   "source": [
    "input_data['normalized_commits'] = input_data.groupby('year').num_commits.transform(lambda x: x/x.mean())"
   ]
  },
  {
   "cell_type": "markdown",
   "metadata": {},
   "source": [
    "There is an implied assumption here about commit patterns being similar enough at least for these few years, with the only difference being the scale of the number of commits. As the order of magnitude of the number of commits for these years is similar, this seems like a safe assumption."
   ]
  },
  {
   "cell_type": "code",
   "execution_count": 588,
   "metadata": {
    "collapsed": false
   },
   "outputs": [
    {
     "data": {
      "image/png": "[encoded data removed]",
      "text/plain": [
       "<matplotlib.figure.Figure at 0x7faf7d238910>"
      ]
     },
     "metadata": {},
     "output_type": "display_data"
    }
   ],
   "source": [
    "plot_corr(input_data)"
   ]
  },
  {
   "cell_type": "markdown",
   "metadata": {},
   "source": [
    "The correlation between the year and the normalized amount of commits was successfully removed.\n",
    "\n",
    "We also see that the correlation between snow depth and number of commits disappeared. This is because we are only looking at data from after 2010, and all the entries that had none-zero snow depth were earlier than that:"
   ]
  },
  {
   "cell_type": "code",
   "execution_count": 589,
   "metadata": {
    "collapsed": false
   },
   "outputs": [
    {
     "data": {
      "text/plain": [
       "0.0    2688\n",
       "Name: snow_depth, dtype: int64"
      ]
     },
     "execution_count": 589,
     "metadata": {},
     "output_type": "execute_result"
    }
   ],
   "source": [
    "input_data.snow_depth.value_counts()"
   ]
  },
  {
   "cell_type": "markdown",
   "metadata": {},
   "source": [
    "It's unfortunate to lose this connection, and it might be interesting to look at years with non-zero snow depth values, but since there were relatively few commits back then compared to recent years, I feel they would not offer a reliable prediction on what will happen in the future. \n",
    "\n",
    "For now, we'll remove the snow depth and try to build a model without it."
   ]
  },
  {
   "cell_type": "code",
   "execution_count": 594,
   "metadata": {
    "collapsed": false
   },
   "outputs": [],
   "source": [
    "input_data = input_data[[x for x in input_data.columns if x!='snow_depth']]"
   ]
  },
  {
   "cell_type": "markdown",
   "metadata": {},
   "source": [
    "We are now ready to start working on our prediction model(s)"
   ]
  },
  {
   "cell_type": "code",
   "execution_count": null,
   "metadata": {
    "collapsed": true
   },
   "outputs": [],
   "source": []
  },
  {
   "cell_type": "code",
   "execution_count": null,
   "metadata": {
    "collapsed": true
   },
   "outputs": [],
   "source": []
  },
  {
   "cell_type": "markdown",
   "metadata": {},
   "source": [
    "## Neural network"
   ]
  },
  {
   "cell_type": "markdown",
   "metadata": {},
   "source": [
    "With the low amount of samples and features in our data, a neural network is probably not the ideal model.\n",
    "\n",
    "It's unlikely that the available data is enough to properly train a deep neural network with its large number of free parameters, so we'll start with a single hidden layer, and see what we get."
   ]
  },
  {
   "cell_type": "markdown",
   "metadata": {},
   "source": [
    "We prepare the training data:"
   ]
  },
  {
   "cell_type": "code",
   "execution_count": 714,
   "metadata": {
    "collapsed": false
   },
   "outputs": [],
   "source": [
    "input_data = input_data.sample(frac=1) #shuffling data because Keras' validation_split takes rows from the end\n",
    "X_train = input_data[input_data.year < 2016][['year_day', 'week_day', 'max_temp', 'min_temp', 'rain', 'ice_pellets']].values\n",
    "Y_train = input_data[input_data.year < 2016]['normalized_commits'].values\n",
    "\n",
    "#We can add some additional scaling and normalization to our input parameters (except ice_pellets, which we'd like to stay binary), to improve the model's performance\n",
    "scaler = preprocessing.StandardScaler()\n",
    "X_temp = scaler.fit_transform(X_train[:, :-1])\n",
    "X_train = np.concatenate((X_temp, X_train[:, -1:]), axis=1)"
   ]
  },
  {
   "cell_type": "markdown",
   "metadata": {},
   "source": [
    "2016 is the latest full year of data we have, so we'll leave it out and use it for testing."
   ]
  },
  {
   "cell_type": "markdown",
   "metadata": {},
   "source": [
    "**We should note that ideally, we should not incorporate the weekday and day of year into our model. These could have a much stronger correlation than any weather effects, and thus might obfuscate them.**\n",
    "\n",
    "**A more reliable representation of the relation between commits and the weather could be achieved by only looking at data for the same weekday, or just one day of year. However, that would leave us with a tiny dataset, from which it would be hard to predict anything.**"
   ]
  },
  {
   "cell_type": "markdown",
   "metadata": {},
   "source": [
    "## Model 1"
   ]
  },
  {
   "cell_type": "markdown",
   "metadata": {},
   "source": [
    "We can use a fairly straightforward model, one hidden layer with rectified linear activation, some dropout to avoid overfitting and a linear output node to get our predicted value for the number of commits. 20 nodes is a somewhat arbitrary number, and a bit large considering we are only inputting 6 features into the model, but with the regularisation on this layer, it shouldn't be too much of a problem."
   ]
  },
  {
   "cell_type": "code",
   "execution_count": 715,
   "metadata": {
    "collapsed": true
   },
   "outputs": [],
   "source": [
    "model = Sequential()\n",
    "model.add(Dense(20, activation = 'relu', input_dim=X_train.shape[1]))\n",
    "model.add(Dropout(0.2))\n",
    "model.add(Dense(1))\n",
    "model.compile(optimizer='adam',\n",
    "      loss='mean_squared_error')"
   ]
  },
  {
   "cell_type": "code",
   "execution_count": 716,
   "metadata": {
    "collapsed": false
   },
   "outputs": [],
   "source": [
    "hist = model.fit(X_train, Y_train, batch_size=30, epochs=400, verbose=0, validation_split=0.2)"
   ]
  },
  {
   "cell_type": "markdown",
   "metadata": {},
   "source": [
    "Before we take a look at the results of our model, we need some benchmark we can compare them to.\n",
    "\n",
    "A simple and straightforward method would be to compare them to the average number of commits per day. If we are able to beat a prediction strategy that just guesses the average every time, it would mean that our model has at least learned **_something_**"
   ]
  },
  {
   "cell_type": "code",
   "execution_count": 717,
   "metadata": {
    "collapsed": false
   },
   "outputs": [
    {
     "data": {
      "text/plain": [
       "0.2046428910692808"
      ]
     },
     "execution_count": 717,
     "metadata": {},
     "output_type": "execute_result"
    }
   ],
   "source": [
    "np.mean((Y_train - np.mean(Y_train))**2)"
   ]
  },
  {
   "cell_type": "code",
   "execution_count": 718,
   "metadata": {
    "collapsed": false
   },
   "outputs": [
    {
     "data": {
      "image/png": "[encoded data removed]",
      "text/plain": [
       "<matplotlib.figure.Figure at 0x7faf7bcde050>"
      ]
     },
     "metadata": {},
     "output_type": "display_data"
    }
   ],
   "source": [
    "plt.plot(hist.history['loss'])\n",
    "plt.plot(hist.history['val_loss'])\n",
    "plt.axhline(y=0.19370851846572007, color='k', linestyle='--')\n",
    "plt.title('model loss')\n",
    "plt.ylabel('loss')\n",
    "plt.xlabel('epoch')\n",
    "plt.legend(['train', 'val', 'benchmark'])\n",
    "plt.show()"
   ]
  },
  {
   "cell_type": "markdown",
   "metadata": {},
   "source": [
    "The loss for the train and the validation follow almost identical curves, so it seems we have avoided overfitting on the input data.\n",
    "\n",
    "Let's see what the actual loss is at the end of the training process:"
   ]
  },
  {
   "cell_type": "code",
   "execution_count": 769,
   "metadata": {
    "collapsed": false
   },
   "outputs": [
    {
     "data": {
      "text/plain": [
       "[0.16720724937646356]"
      ]
     },
     "execution_count": 769,
     "metadata": {},
     "output_type": "execute_result"
    }
   ],
   "source": [
    "hist.history['loss'][-1:]"
   ]
  },
  {
   "cell_type": "markdown",
   "metadata": {},
   "source": [
    "We were able to beat the average, but not by a huge margin. \n",
    "\n",
    "We can test ourselves using the more recent data:"
   ]
  },
  {
   "cell_type": "code",
   "execution_count": 728,
   "metadata": {
    "collapsed": false
   },
   "outputs": [
    {
     "data": {
      "text/plain": [
       "0.11306263253988465"
      ]
     },
     "execution_count": 728,
     "metadata": {},
     "output_type": "execute_result"
    }
   ],
   "source": [
    "X_test = input_data[input_data.year == 2016][['year_day', 'week_day', 'max_temp', 'min_temp', 'rain', 'ice_pellets']].values\n",
    "Y_test = input_data[input_data.year == 2016]['normalized_commits'].values\n",
    "\n",
    "#We can add some additional scaling and normalization to our input parameters (except ice_pellets, which we'd like to stay binary), to improve the model's performance\n",
    "scaler = preprocessing.StandardScaler()\n",
    "X_temp = scaler.fit_transform(X_test[:, :-1])\n",
    "X_test = np.concatenate((X_temp, X_test[:, -1:]), axis=1)\n",
    "\n",
    "model.evaluate(X_test, Y_test, batch_size=32, verbose=2)"
   ]
  },
  {
   "cell_type": "code",
   "execution_count": 730,
   "metadata": {
    "collapsed": false
   },
   "outputs": [
    {
     "data": {
      "text/plain": [
       "0.1087371562748128"
      ]
     },
     "execution_count": 730,
     "metadata": {},
     "output_type": "execute_result"
    }
   ],
   "source": [
    "X_test = input_data[input_data.year >= 2016][['year_day', 'week_day', 'max_temp', 'min_temp', 'rain', 'ice_pellets']].values\n",
    "Y_test = input_data[input_data.year >= 2016]['normalized_commits'].values\n",
    "\n",
    "#We can add some additional scaling and normalization to our input parameters (except ice_pellets, which we'd like to stay binary), to improve the model's performance\n",
    "scaler = preprocessing.StandardScaler()\n",
    "X_temp = scaler.fit_transform(X_test[:, :-1])\n",
    "X_test = np.concatenate((X_temp, X_test[:, -1:]), axis=1)\n",
    "\n",
    "model.evaluate(X_test, Y_test, batch_size=32, verbose=2)"
   ]
  },
  {
   "cell_type": "markdown",
   "metadata": {},
   "source": [
    "Our loss when evaluating 2016 data is much lower than the train loss and it's even lower if we also include 2017.\n",
    "\n",
    "This could be a fluke, due to the lower amount of data.\n",
    "\n",
    "It could also be justified. A couple of positive reasons for this might be:\n",
    "\n",
    "1. The model picked up on a trend that is growing over the years, getting higher the more we advance in time\n",
    "2. The more recent data is more reliable, and thus has less noise"
   ]
  },
  {
   "cell_type": "code",
   "execution_count": null,
   "metadata": {
    "collapsed": true
   },
   "outputs": [],
   "source": []
  },
  {
   "cell_type": "code",
   "execution_count": null,
   "metadata": {
    "collapsed": true
   },
   "outputs": [],
   "source": []
  },
  {
   "cell_type": "markdown",
   "metadata": {},
   "source": [
    "## Model 2"
   ]
  },
  {
   "cell_type": "markdown",
   "metadata": {},
   "source": [
    "It's not very likely it would help, but since we're already \"playing\" with neural networks, we might as well see how it affects the model if we add another hidden layer. We'll make this one smaller, "
   ]
  },
  {
   "cell_type": "code",
   "execution_count": 760,
   "metadata": {
    "collapsed": true
   },
   "outputs": [],
   "source": [
    "input_data = input_data.sample(frac=1) #shuffling data because Keras' validation_split takes rows from the end\n",
    "X_train = input_data[input_data.year < 2016][['year_day', 'week_day', 'max_temp', 'min_temp', 'rain', 'ice_pellets']].values\n",
    "Y_train = input_data[input_data.year < 2016]['normalized_commits'].values\n",
    "\n",
    "#We can add some additional scaling and normalization to our input parameters (except ice_pellets, which we'd like to stay binary), to improve the model's performance\n",
    "scaler = preprocessing.StandardScaler()\n",
    "X_temp = scaler.fit_transform(X_train[:, :-1])\n",
    "X_train = np.concatenate((X_temp, X_train[:, -1:]), axis=1)"
   ]
  },
  {
   "cell_type": "code",
   "execution_count": 761,
   "metadata": {
    "collapsed": true
   },
   "outputs": [],
   "source": [
    "model = Sequential()\n",
    "model.add(Dense(20, activation = 'relu', input_dim=X_train.shape[1]))\n",
    "model.add(Dropout(0.2))\n",
    "model.add(Dense(10, activation = 'relu'))\n",
    "model.add(Dense(1))\n",
    "model.compile(optimizer='adadelta',\n",
    "      loss='mean_squared_error')"
   ]
  },
  {
   "cell_type": "code",
   "execution_count": 762,
   "metadata": {
    "collapsed": false
   },
   "outputs": [],
   "source": [
    "hist = model.fit(X_train, Y_train, batch_size=30, epochs=400, verbose=0, validation_split=0.2)"
   ]
  },
  {
   "cell_type": "code",
   "execution_count": 766,
   "metadata": {
    "collapsed": false
   },
   "outputs": [
    {
     "data": {
      "image/png": "[encoded data removed]",
      "text/plain": [
       "<matplotlib.figure.Figure at 0x7faf5d2aba90>"
      ]
     },
     "metadata": {},
     "output_type": "display_data"
    }
   ],
   "source": [
    "plt.plot(hist.history['loss'])\n",
    "plt.plot(hist.history['val_loss'])\n",
    "plt.axhline(y=0.19370851846572007, color='k', linestyle='--')\n",
    "plt.title('model loss')\n",
    "plt.ylabel('loss')\n",
    "plt.xlabel('epoch')\n",
    "plt.legend(['train', 'val', 'benchmark'])\n",
    "plt.show()"
   ]
  },
  {
   "cell_type": "code",
   "execution_count": 770,
   "metadata": {
    "collapsed": false
   },
   "outputs": [
    {
     "data": {
      "text/plain": [
       "[0.16720724937646356]"
      ]
     },
     "execution_count": 770,
     "metadata": {},
     "output_type": "execute_result"
    }
   ],
   "source": [
    "hist.history['loss'][-1:]"
   ]
  },
  {
   "cell_type": "code",
   "execution_count": 765,
   "metadata": {
    "collapsed": false
   },
   "outputs": [
    {
     "data": {
      "text/plain": [
       "0.10818242927792086"
      ]
     },
     "execution_count": 765,
     "metadata": {},
     "output_type": "execute_result"
    }
   ],
   "source": [
    "X_test = input_data[input_data.year >= 2016][['year_day', 'week_day', 'max_temp', 'min_temp', 'rain', 'ice_pellets']].values\n",
    "Y_test = input_data[input_data.year >= 2016]['normalized_commits'].values\n",
    "\n",
    "#We can add some additional scaling and normalization to our input parameters (except ice_pellets, which we'd like to stay binary), to improve the model's performance\n",
    "scaler = preprocessing.StandardScaler()\n",
    "X_temp = scaler.fit_transform(X_test[:, :-1])\n",
    "X_test = np.concatenate((X_temp, X_test[:, -1:]), axis=1)\n",
    "\n",
    "model.evaluate(X_test, Y_test, batch_size=32, verbose=2)"
   ]
  },
  {
   "cell_type": "markdown",
   "metadata": {},
   "source": [
    "The results are almost identical to those of the first model.\n",
    "\n",
    "It would appear that adding another layer did not improve our model."
   ]
  },
  {
   "cell_type": "code",
   "execution_count": null,
   "metadata": {
    "collapsed": true
   },
   "outputs": [],
   "source": []
  },
  {
   "cell_type": "code",
   "execution_count": null,
   "metadata": {
    "collapsed": true
   },
   "outputs": [],
   "source": []
  },
  {
   "cell_type": "markdown",
   "metadata": {},
   "source": [
    "## Model 3"
   ]
  },
  {
   "cell_type": "markdown",
   "metadata": {},
   "source": [
    "While the regression models above were able to achieve some level of prediction, we might be able to get a better solution if we were to simplify the problem.\n",
    "\n",
    "We could just try to predict whether on a given day there would be a high or low number of commits, without predicting the exact number"
   ]
  },
  {
   "cell_type": "markdown",
   "metadata": {},
   "source": [
    "To decide how we should divide our categories, let's look at the distribution of normalized_commits:"
   ]
  },
  {
   "cell_type": "code",
   "execution_count": 871,
   "metadata": {
    "collapsed": false
   },
   "outputs": [
    {
     "data": {
      "text/plain": [
       "count    2688.000000\n",
       "mean        1.000000\n",
       "std         0.440205\n",
       "min         0.035879\n",
       "25%         0.690374\n",
       "50%         0.957611\n",
       "75%         1.247664\n",
       "max         3.641748\n",
       "Name: normalized_commits, dtype: float64"
      ]
     },
     "execution_count": 871,
     "metadata": {},
     "output_type": "execute_result"
    }
   ],
   "source": [
    "input_data.normalized_commits.describe()"
   ]
  },
  {
   "cell_type": "code",
   "execution_count": 886,
   "metadata": {
    "collapsed": true
   },
   "outputs": [],
   "source": [
    "input_data['categories'] = pd.cut(input_data['normalized_commits'], bins=[0,0.95,3.7], labels=[0,1])"
   ]
  },
  {
   "cell_type": "code",
   "execution_count": 877,
   "metadata": {
    "collapsed": false
   },
   "outputs": [
    {
     "data": {
      "text/html": [
       "<div>\n",
       "<table border=\"1\" class=\"dataframe\">\n",
       "  <thead>\n",
       "    <tr style=\"text-align: right;\">\n",
       "      <th></th>\n",
       "      <th>date</th>\n",
       "      <th>year_day</th>\n",
       "      <th>week_day</th>\n",
       "      <th>num_commits</th>\n",
       "      <th>num_committers</th>\n",
       "      <th>max_temp</th>\n",
       "      <th>min_temp</th>\n",
       "      <th>rain</th>\n",
       "      <th>ice_pellets</th>\n",
       "      <th>year</th>\n",
       "      <th>normalized_commits</th>\n",
       "      <th>categories</th>\n",
       "      <th>ordered_weekday</th>\n",
       "    </tr>\n",
       "  </thead>\n",
       "  <tbody>\n",
       "    <tr>\n",
       "      <th>827</th>\n",
       "      <td>2016-09-14</td>\n",
       "      <td>258</td>\n",
       "      <td>4</td>\n",
       "      <td>141</td>\n",
       "      <td>47</td>\n",
       "      <td>90.0</td>\n",
       "      <td>60.1</td>\n",
       "      <td>0.00</td>\n",
       "      <td>0</td>\n",
       "      <td>2016</td>\n",
       "      <td>0.948274</td>\n",
       "      <td>0</td>\n",
       "      <td>3</td>\n",
       "    </tr>\n",
       "    <tr>\n",
       "      <th>1260</th>\n",
       "      <td>2017-01-06</td>\n",
       "      <td>6</td>\n",
       "      <td>6</td>\n",
       "      <td>110</td>\n",
       "      <td>35</td>\n",
       "      <td>30.9</td>\n",
       "      <td>24.8</td>\n",
       "      <td>0.01</td>\n",
       "      <td>1</td>\n",
       "      <td>2017</td>\n",
       "      <td>1.068674</td>\n",
       "      <td>1</td>\n",
       "      <td>5</td>\n",
       "    </tr>\n",
       "    <tr>\n",
       "      <th>614</th>\n",
       "      <td>2013-11-22</td>\n",
       "      <td>326</td>\n",
       "      <td>6</td>\n",
       "      <td>156</td>\n",
       "      <td>38</td>\n",
       "      <td>48.0</td>\n",
       "      <td>28.9</td>\n",
       "      <td>0.01</td>\n",
       "      <td>0</td>\n",
       "      <td>2013</td>\n",
       "      <td>1.297571</td>\n",
       "      <td>1</td>\n",
       "      <td>5</td>\n",
       "    </tr>\n",
       "    <tr>\n",
       "      <th>1136</th>\n",
       "      <td>2012-12-11</td>\n",
       "      <td>346</td>\n",
       "      <td>3</td>\n",
       "      <td>118</td>\n",
       "      <td>31</td>\n",
       "      <td>60.1</td>\n",
       "      <td>41.0</td>\n",
       "      <td>0.15</td>\n",
       "      <td>0</td>\n",
       "      <td>2012</td>\n",
       "      <td>1.223352</td>\n",
       "      <td>1</td>\n",
       "      <td>2</td>\n",
       "    </tr>\n",
       "    <tr>\n",
       "      <th>1855</th>\n",
       "      <td>2010-04-26</td>\n",
       "      <td>116</td>\n",
       "      <td>2</td>\n",
       "      <td>76</td>\n",
       "      <td>17</td>\n",
       "      <td>62.1</td>\n",
       "      <td>46.9</td>\n",
       "      <td>0.00</td>\n",
       "      <td>0</td>\n",
       "      <td>2010</td>\n",
       "      <td>1.363413</td>\n",
       "      <td>1</td>\n",
       "      <td>1</td>\n",
       "    </tr>\n",
       "  </tbody>\n",
       "</table>\n",
       "</div>"
      ],
      "text/plain": [
       "           date  year_day  week_day  num_commits  num_committers  max_temp  \\\n",
       "827  2016-09-14       258         4          141              47      90.0   \n",
       "1260 2017-01-06         6         6          110              35      30.9   \n",
       "614  2013-11-22       326         6          156              38      48.0   \n",
       "1136 2012-12-11       346         3          118              31      60.1   \n",
       "1855 2010-04-26       116         2           76              17      62.1   \n",
       "\n",
       "      min_temp  rain  ice_pellets  year  normalized_commits categories  \\\n",
       "827       60.1  0.00            0  2016            0.948274          0   \n",
       "1260      24.8  0.01            1  2017            1.068674          1   \n",
       "614       28.9  0.01            0  2013            1.297571          1   \n",
       "1136      41.0  0.15            0  2012            1.223352          1   \n",
       "1855      46.9  0.00            0  2010            1.363413          1   \n",
       "\n",
       "      ordered_weekday  \n",
       "827                 3  \n",
       "1260                5  \n",
       "614                 5  \n",
       "1136                2  \n",
       "1855                1  "
      ]
     },
     "execution_count": 877,
     "metadata": {},
     "output_type": "execute_result"
    }
   ],
   "source": [
    "input_data.head()"
   ]
  },
  {
   "cell_type": "code",
   "execution_count": 878,
   "metadata": {
    "collapsed": false
   },
   "outputs": [],
   "source": [
    "input_data = input_data.sample(frac=1) #shuffling data because Keras' validation_split takes rows from the end\n",
    "X_train = input_data[input_data.year < 2016][['year_day', 'week_day', 'max_temp', 'min_temp', 'rain', 'ice_pellets']].values\n",
    "Y_train = input_data[input_data.year < 2016]['categories'].values\n",
    "Y_train = np_utils.to_categorical(Y_train, 3) #need to give Y the right form for softmax\n",
    "\n",
    "scaler = preprocessing.StandardScaler()\n",
    "X_temp = scaler.fit_transform(X_train[:, :-1])\n",
    "X_train = np.concatenate((X_temp, X_train[:, -1:]), axis=1)"
   ]
  },
  {
   "cell_type": "code",
   "execution_count": 879,
   "metadata": {
    "collapsed": false
   },
   "outputs": [],
   "source": [
    "model_2 = Sequential()\n",
    "model_2.add(Dense(20, activation = 'relu', input_dim=X_train.shape[1]))\n",
    "model_2.add(Dropout(0.2))\n",
    "model_2.add(Dense(10, activation = 'relu'))\n",
    "model_2.add(Dropout(0.2))\n",
    "model_2.add(Dense(Y_train.shape[1], activation='softmax'))\n",
    "\n",
    "model_2.compile(loss='categorical_crossentropy',\n",
    "              optimizer='adam',\n",
    "              metrics=['accuracy'])"
   ]
  },
  {
   "cell_type": "code",
   "execution_count": 880,
   "metadata": {
    "collapsed": false
   },
   "outputs": [],
   "source": [
    "hist = model_2.fit(X_train, Y_train, batch_size=30, epochs=400, verbose=0, validation_split=0.2)"
   ]
  },
  {
   "cell_type": "code",
   "execution_count": 881,
   "metadata": {
    "collapsed": false
   },
   "outputs": [
    {
     "data": {
      "image/png": "[encoded data removed]",
      "text/plain": [
       "<matplotlib.figure.Figure at 0x7faf739a9550>"
      ]
     },
     "metadata": {},
     "output_type": "display_data"
    }
   ],
   "source": [
    "plt.plot(hist.history['loss'])\n",
    "plt.plot(hist.history['val_loss'])\n",
    "plt.title('model loss')\n",
    "plt.ylabel('loss')\n",
    "plt.xlabel('epoch')\n",
    "plt.legend(['train', 'val'])\n",
    "plt.show()"
   ]
  },
  {
   "cell_type": "markdown",
   "metadata": {},
   "source": [
    "Our model seems to be overfitting a bit. We'll see how well it does on the test data."
   ]
  },
  {
   "cell_type": "code",
   "execution_count": 882,
   "metadata": {
    "collapsed": false
   },
   "outputs": [
    {
     "data": {
      "image/png": "[encoded data removed]",
      "text/plain": [
       "<matplotlib.figure.Figure at 0x7faf78594250>"
      ]
     },
     "metadata": {},
     "output_type": "display_data"
    }
   ],
   "source": [
    "plt.plot(hist.history['acc'])\n",
    "plt.plot(hist.history['val_acc'])\n",
    "plt.title('model accuracy')\n",
    "plt.ylabel('accuracy')\n",
    "plt.xlabel('epoch')\n",
    "plt.legend(['train', 'val'])\n",
    "plt.show()"
   ]
  },
  {
   "cell_type": "code",
   "execution_count": 883,
   "metadata": {
    "collapsed": false
   },
   "outputs": [
    {
     "data": {
      "text/plain": [
       "[0.71461187405129001]"
      ]
     },
     "execution_count": 883,
     "metadata": {},
     "output_type": "execute_result"
    }
   ],
   "source": [
    "hist.history['acc'][-1:]"
   ]
  },
  {
   "cell_type": "code",
   "execution_count": 884,
   "metadata": {
    "collapsed": true
   },
   "outputs": [],
   "source": [
    "input_data = input_data.sample(frac=1) #shuffling data because Keras' validation_split takes rows from the end\n",
    "X_test = input_data[input_data.year >= 2016][['year_day', 'week_day', 'max_temp', 'min_temp', 'rain', 'ice_pellets']].values\n",
    "Y_test = input_data[input_data.year >= 2016]['categories'].values\n",
    "Y_test = np_utils.to_categorical(Y_test, 3) #need to give Y the right form for softmax\n",
    "\n",
    "scaler = preprocessing.StandardScaler()\n",
    "X_temp = scaler.fit_transform(X_test[:, :-1])\n",
    "X_test = np.concatenate((X_temp, X_test[:, -1:]), axis=1)"
   ]
  },
  {
   "cell_type": "code",
   "execution_count": 885,
   "metadata": {
    "collapsed": false
   },
   "outputs": [
    {
     "name": "stdout",
     "output_type": "stream",
     "text": [
      "\r",
      " 32/497 [>.............................] - ETA: 0s"
     ]
    },
    {
     "data": {
      "text/plain": [
       "[0.63054852214617507, 0.69014084555013799]"
      ]
     },
     "execution_count": 885,
     "metadata": {},
     "output_type": "execute_result"
    }
   ],
   "source": [
    "model_2.evaluate(X_test, Y_test, verbose=1)"
   ]
  },
  {
   "cell_type": "markdown",
   "metadata": {},
   "source": [
    "Not too bad. Even with the slight overfitting, the model was able to predict the 2016-2017 days with high or low commits at almost a 70% accuracy"
   ]
  },
  {
   "cell_type": "code",
   "execution_count": null,
   "metadata": {
    "collapsed": true
   },
   "outputs": [],
   "source": []
  },
  {
   "cell_type": "code",
   "execution_count": null,
   "metadata": {
    "collapsed": true
   },
   "outputs": [],
   "source": []
  },
  {
   "cell_type": "markdown",
   "metadata": {},
   "source": [
    "## What is the best kind of model for this problem?"
   ]
  },
  {
   "cell_type": "markdown",
   "metadata": {},
   "source": [
    "There are a number of reasons to believe that a neural network is not the optimal model for this problem.\n",
    "\n",
    "First of all, **our number of samples is limited by the number of days**. Since Github has only been around for about 20 years, we only have thousands of days to work with. We could multiply this by looking at various locations, not just MIT, but as we mentioned previously, places might react very differently to similar weather conditions, further complicating the problem.\n",
    "\n",
    "Second, **the number of available features is not very large**. Most of the fields in the weather data seem to have little or no effect on Github commits. We found only 6 to be relevant in this analysis.\n",
    "\n",
    "Neural networks with hidden layers have a lot of degrees of freedom that need to be determined. The 2 reasons mentioned above mean that we have very limited data to do so reliably.\n",
    "Of course, we could train a neural network with no hidden layers, but that has no advantage over \"classical\" machine learning algorithms.\n",
    "\n",
    "Which leads us to the third reason:\n",
    "\n",
    "**The features here don't seem to have complex non-linear relations between them**. We don't need a model with deep layers to find some strange way to mix the precipitation and the temperature to predict our result. If a relation does exist, it can probably be found by dividing each dimension of the problem either linearly or through a relatively simple kernel. Hence some model like SVM, RandomForest or even logistic regression might be able to do the trick."
   ]
  },
  {
   "cell_type": "markdown",
   "metadata": {},
   "source": [
    "Let's put this last assertion to the test:"
   ]
  },
  {
   "cell_type": "markdown",
   "metadata": {},
   "source": [
    "## \"Classical\" model"
   ]
  },
  {
   "cell_type": "markdown",
   "metadata": {},
   "source": [
    "We can train a random forest classifier and compare its results to our third model"
   ]
  },
  {
   "cell_type": "markdown",
   "metadata": {},
   "source": [
    "Before we start, we'll help our trees a bit by ordering the weekdays so that the weekend days are together:"
   ]
  },
  {
   "cell_type": "code",
   "execution_count": 890,
   "metadata": {
    "collapsed": true
   },
   "outputs": [],
   "source": [
    "def reorder_weekday(day):\n",
    "  if day==1:\n",
    "    return 7\n",
    "  else:\n",
    "    return day-1"
   ]
  },
  {
   "cell_type": "code",
   "execution_count": 891,
   "metadata": {
    "collapsed": false
   },
   "outputs": [],
   "source": [
    "input_data['ordered_weekday'] = input_data.week_day.apply(reorder_weekday)"
   ]
  },
  {
   "cell_type": "code",
   "execution_count": 887,
   "metadata": {
    "collapsed": false
   },
   "outputs": [
    {
     "data": {
      "text/plain": [
       "GridSearchCV(cv=None, error_score='raise',\n",
       "       estimator=RandomForestClassifier(bootstrap=True, class_weight=None, criterion='gini',\n",
       "            max_depth=None, max_features='auto', max_leaf_nodes=None,\n",
       "            min_samples_leaf=1, min_samples_split=2,\n",
       "            min_weight_fraction_leaf=0.0, n_estimators=50, n_jobs=-1,\n",
       "            oob_score=False, random_state=None, verbose=0,\n",
       "            warm_start=False),\n",
       "       fit_params={}, iid=True, n_jobs=1,\n",
       "       param_grid={'max_features': [1, 3, 6], 'min_samples_split': [1, 3, 10], 'max_depth': [3, 4, None], 'min_samples_leaf': [1, 3, 10]},\n",
       "       pre_dispatch='2*n_jobs', refit=True, scoring=None, verbose=0)"
      ]
     },
     "execution_count": 887,
     "metadata": {},
     "output_type": "execute_result"
    }
   ],
   "source": [
    "X_train_2 = input_data[input_data.year < 2016][['year_day', 'ordered_weekday', 'max_temp', 'min_temp', 'rain', 'ice_pellets']].values #no real need to scale this for a random forest\n",
    "\n",
    "Y_cat = input_data[input_data.year < 2016]['categories'] \n",
    "\n",
    "clf = RandomForestClassifier(n_estimators=50, n_jobs=-1)\n",
    "\n",
    "param_grid = {\"max_depth\": [3, 4, None],\n",
    "              \"max_features\": [1, 3, 6],\n",
    "              \"min_samples_split\": [1, 3, 10],\n",
    "              \"min_samples_leaf\": [1, 3, 10]}\n",
    "\n",
    "\n",
    "grid_search = GridSearchCV(clf, param_grid=param_grid)\n",
    "grid_search.fit(X_train_2, Y_cat)\n"
   ]
  },
  {
   "cell_type": "code",
   "execution_count": 889,
   "metadata": {
    "collapsed": false
   },
   "outputs": [
    {
     "data": {
      "text/plain": [
       "0.70789593792788685"
      ]
     },
     "execution_count": 889,
     "metadata": {},
     "output_type": "execute_result"
    }
   ],
   "source": [
    "grid_search.best_score_  "
   ]
  },
  {
   "cell_type": "markdown",
   "metadata": {},
   "source": [
    "The result we found is surprisingly similar to that of our third model.\n",
    "\n",
    "We can also see how well this model does on our test data: "
   ]
  },
  {
   "cell_type": "code",
   "execution_count": 892,
   "metadata": {
    "collapsed": false
   },
   "outputs": [
    {
     "data": {
      "text/plain": [
       "0.73038229376257546"
      ]
     },
     "execution_count": 892,
     "metadata": {},
     "output_type": "execute_result"
    }
   ],
   "source": [
    "X_test_2 = input_data[input_data.year >= 2016][['year_day', 'ordered_weekday', 'max_temp', 'min_temp', 'rain', 'ice_pellets']].values #no real need to scale this for a random forest\n",
    "\n",
    "Y_cat_test = input_data[input_data.year >= 2016]['categories'] \n",
    "\n",
    "grid_search.score(X_test_2, Y_cat_test)"
   ]
  },
  {
   "cell_type": "markdown",
   "metadata": {},
   "source": [
    "Relatively easily, this model achieved better results than our neural network above"
   ]
  },
  {
   "cell_type": "code",
   "execution_count": null,
   "metadata": {
    "collapsed": true
   },
   "outputs": [],
   "source": []
  },
  {
   "cell_type": "markdown",
   "metadata": {},
   "source": [
    "## Some conclusions"
   ]
  },
  {
   "cell_type": "markdown",
   "metadata": {},
   "source": [
    "* There doesn't appear to be a very strong correlation between the weather and Github commits, which is not overly surprising\n",
    "\n",
    "\n",
    "* Given this fact, the performance of our NN models was not too bad\n",
    "\n",
    "\n",
    "* Our Random Forest approach, even without much work or optimization (just an out-of-the-box gridsearch) was able to give us results that are comparable to those of the NN\n",
    "\n",
    "\n",
    "* However, it is important to note that we did \"help\" the RF a bit by doing some additional preprocessing on the weekdays - a feature that has a large effect on the number of commits. This is the type of thing that an effective deep NN would have been able to do on its own (and might have done it in one of our NN models)"
   ]
  },
  {
   "cell_type": "code",
   "execution_count": null,
   "metadata": {
    "collapsed": true
   },
   "outputs": [],
   "source": []
  }
 ],
 "metadata": {
  "kernelspec": {
   "display_name": "Python 2",
   "language": "python",
   "name": "python2"
  },
  "language_info": {
   "codemirror_mode": {
    "name": "ipython",
    "version": 2
   },
   "file_extension": ".py",
   "mimetype": "text/x-python",
   "name": "python",
   "nbconvert_exporter": "python",
   "pygments_lexer": "ipython2",
   "version": "2.7.9"
  }
 },
 "nbformat": 4,
 "nbformat_minor": 2
}
